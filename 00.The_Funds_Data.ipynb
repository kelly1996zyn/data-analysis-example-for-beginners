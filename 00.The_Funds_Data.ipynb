{
 "cells": [
  {
   "cell_type": "code",
   "execution_count": 1,
   "metadata": {},
   "outputs": [],
   "source": [
    "import numpy as np\n",
    "import pandas as pd\n",
    "import os\n",
    "import matplotlib.pyplot as plt\n",
    "%matplotlib inline\n",
    "import matplotlib as mpl\n",
    "mpl.rcParams['font.sans-serif'] = ['STHeiti']\n",
    "mpl.rcParams['font.serif'] = ['STHeiti']\n",
    "import seaborn as sns\n",
    "sns.set_style(\"darkgrid\",{\"font.sans-serif\":['STHeiti', 'STHeiti']})\n",
    "# Set Default Encoding\n",
    "import sys\n",
    "stdout = sys.stdout\n",
    "reload(sys)\n",
    "sys.setdefaultencoding('utf-8')\n",
    "sys.stdout = stdout"
   ]
  },
  {
   "cell_type": "markdown",
   "metadata": {
    "collapsed": true
   },
   "source": [
    "# 概述\n",
    "最近一段时间学习了爬虫以及 pandas 的使用，考虑到结合实际案例能够加深学习，准备爬取一些数据练习数据分析。有了这些想法就开始着手干活，最终决定爬取基金的相关数据，并简单分析，达到练习爬虫和 pandas 的目的。  \n",
    "爬取的数据分为两大类，一类为基金相关信息，另一类为基金涨跌幅数据。通过对这些数据的分析，看看会有哪些有意思的事情。\n",
    "\n",
    "## 工具\n",
    "Python库：numpy/pandas/matplotlib/seaborn/   \n",
    "\n",
    "Python交互环境：Ipython notebook\n",
    "\n",
    "## 目的\n",
    "熟悉 pandas 的使用，初探数据分析的具体内容。\n",
    "\n",
    "# 数据\n",
    "## 概况\n",
    "数据来源于天天基金网，经过简单处理分为两类：\n",
    "* 基金信息 (funds.csv)\n",
    "* 基金日涨跌幅数据 \n",
    "\n",
    "经过初步筛选，实际用于练手的数据为混合型基金：\n",
    "* 混合型基金信息 (mixed_funds.csv)\n",
    "* 混合型基金日涨跌幅数据 (mixed_funds_rate.csv)\n",
    "\n",
    "## 数据信息\n",
    "一、先查看一下所有基金的信息。"
   ]
  },
  {
   "cell_type": "code",
   "execution_count": 2,
   "metadata": {},
   "outputs": [
    {
     "data": {
      "text/html": [
       "<div>\n",
       "<style scoped>\n",
       "    .dataframe tbody tr th:only-of-type {\n",
       "        vertical-align: middle;\n",
       "    }\n",
       "\n",
       "    .dataframe tbody tr th {\n",
       "        vertical-align: top;\n",
       "    }\n",
       "\n",
       "    .dataframe thead th {\n",
       "        text-align: right;\n",
       "    }\n",
       "</style>\n",
       "<table border=\"1\" class=\"dataframe\">\n",
       "  <thead>\n",
       "    <tr style=\"text-align: right;\">\n",
       "      <th></th>\n",
       "      <th>code</th>\n",
       "      <th>name</th>\n",
       "      <th>type</th>\n",
       "      <th>manager</th>\n",
       "      <th>company</th>\n",
       "    </tr>\n",
       "  </thead>\n",
       "  <tbody>\n",
       "    <tr>\n",
       "      <th>0</th>\n",
       "      <td>000001</td>\n",
       "      <td>华夏成长</td>\n",
       "      <td>混合型</td>\n",
       "      <td>董阳阳</td>\n",
       "      <td>华夏基金</td>\n",
       "    </tr>\n",
       "    <tr>\n",
       "      <th>1</th>\n",
       "      <td>000003</td>\n",
       "      <td>中海可转债A</td>\n",
       "      <td>债券型</td>\n",
       "      <td>江小震</td>\n",
       "      <td>中海基金</td>\n",
       "    </tr>\n",
       "    <tr>\n",
       "      <th>2</th>\n",
       "      <td>000004</td>\n",
       "      <td>中海可转债C</td>\n",
       "      <td>债券型</td>\n",
       "      <td>江小震</td>\n",
       "      <td>中海基金</td>\n",
       "    </tr>\n",
       "    <tr>\n",
       "      <th>3</th>\n",
       "      <td>000005</td>\n",
       "      <td>嘉实增强信用定期债券</td>\n",
       "      <td>定开债券</td>\n",
       "      <td>刘宁</td>\n",
       "      <td>嘉实基金</td>\n",
       "    </tr>\n",
       "    <tr>\n",
       "      <th>4</th>\n",
       "      <td>000007</td>\n",
       "      <td>鹏华国企债债券</td>\n",
       "      <td>债券型</td>\n",
       "      <td>刘涛</td>\n",
       "      <td>鹏华基金</td>\n",
       "    </tr>\n",
       "  </tbody>\n",
       "</table>\n",
       "</div>"
      ],
      "text/plain": [
       "     code        name  type manager company\n",
       "0  000001        华夏成长   混合型     董阳阳    华夏基金\n",
       "1  000003      中海可转债A   债券型     江小震    中海基金\n",
       "2  000004      中海可转债C   债券型     江小震    中海基金\n",
       "3  000005  嘉实增强信用定期债券  定开债券      刘宁    嘉实基金\n",
       "4  000007     鹏华国企债债券   债券型      刘涛    鹏华基金"
      ]
     },
     "execution_count": 2,
     "metadata": {},
     "output_type": "execute_result"
    }
   ],
   "source": [
    "funds = pd.read_csv('./data/funds.csv',dtype={'code':str})\n",
    "funds.head()"
   ]
  },
  {
   "cell_type": "markdown",
   "metadata": {},
   "source": [
    "文件中包含基金信息，数据共包含五列，分别为基金代码、基金名字、类型、经理和管理公司。  \n",
    "\n",
    "二、再来看一下所有基金的统计情况。"
   ]
  },
  {
   "cell_type": "code",
   "execution_count": 3,
   "metadata": {},
   "outputs": [
    {
     "data": {
      "text/html": [
       "<div>\n",
       "<style scoped>\n",
       "    .dataframe tbody tr th:only-of-type {\n",
       "        vertical-align: middle;\n",
       "    }\n",
       "\n",
       "    .dataframe tbody tr th {\n",
       "        vertical-align: top;\n",
       "    }\n",
       "\n",
       "    .dataframe thead th {\n",
       "        text-align: right;\n",
       "    }\n",
       "</style>\n",
       "<table border=\"1\" class=\"dataframe\">\n",
       "  <thead>\n",
       "    <tr style=\"text-align: right;\">\n",
       "      <th></th>\n",
       "      <th>code</th>\n",
       "      <th>name</th>\n",
       "      <th>type</th>\n",
       "      <th>manager</th>\n",
       "      <th>company</th>\n",
       "    </tr>\n",
       "  </thead>\n",
       "  <tbody>\n",
       "    <tr>\n",
       "      <th>count</th>\n",
       "      <td>6719</td>\n",
       "      <td>6719</td>\n",
       "      <td>6719</td>\n",
       "      <td>6719</td>\n",
       "      <td>6719</td>\n",
       "    </tr>\n",
       "    <tr>\n",
       "      <th>unique</th>\n",
       "      <td>6719</td>\n",
       "      <td>6678</td>\n",
       "      <td>19</td>\n",
       "      <td>1324</td>\n",
       "      <td>123</td>\n",
       "    </tr>\n",
       "    <tr>\n",
       "      <th>top</th>\n",
       "      <td>519332</td>\n",
       "      <td>信诚中证800金融指数分级</td>\n",
       "      <td>混合型</td>\n",
       "      <td>许强</td>\n",
       "      <td>博时基金</td>\n",
       "    </tr>\n",
       "    <tr>\n",
       "      <th>freq</th>\n",
       "      <td>1</td>\n",
       "      <td>3</td>\n",
       "      <td>2609</td>\n",
       "      <td>53</td>\n",
       "      <td>257</td>\n",
       "    </tr>\n",
       "  </tbody>\n",
       "</table>\n",
       "</div>"
      ],
      "text/plain": [
       "          code           name  type manager company\n",
       "count     6719           6719  6719    6719    6719\n",
       "unique    6719           6678    19    1324     123\n",
       "top     519332  信诚中证800金融指数分级   混合型      许强    博时基金\n",
       "freq         1              3  2609      53     257"
      ]
     },
     "execution_count": 3,
     "metadata": {},
     "output_type": "execute_result"
    }
   ],
   "source": [
    "funds.describe()"
   ]
  },
  {
   "cell_type": "markdown",
   "metadata": {},
   "source": [
    "共 6719 个基金，总共 19 个类型，经理为 1324 个 (可能存在重名情况，本文忽略)，管理公司为 123 个。 其中基金最多的类型为混合型，共有 2609 只，管理基金最多的经理为许强，共 53 只 ，管理基金最多的公司为博时基金。\n",
    "### 基金类型\n",
    "基金的分析是一个很复杂的问题，首先考虑的是不同类型的基金，因为不同类型的基金收益和风险的基准都不一致，先查看一下所有基金的类型分布，并用图形表示。"
   ]
  },
  {
   "cell_type": "code",
   "execution_count": 4,
   "metadata": {},
   "outputs": [
    {
     "data": {
      "image/png": "[encoded data removed]",
      "text/plain": [
       "<matplotlib.figure.Figure at 0x10a907550>"
      ]
     },
     "metadata": {},
     "output_type": "display_data"
    }
   ],
   "source": [
    "funds['type'].value_counts().plot(kind='barh',figsize=(10,8))\n",
    "plt.savefig('/Users/lli/Downloads/1.png',dpi=600)"
   ]
  },
  {
   "cell_type": "markdown",
   "metadata": {},
   "source": [
    "可以看到，基金类型细分为 19 个类型，其中最多的为混合型。总的来说，大部分基金为中低风险中低收益类型，如混合型、债券型、货币型等。考虑到不同类型基金可比性不高，挑选混合型的基金出来分析。其原因有：\n",
    "* 同一类型的基金更具有可比性，评价会更合理；\n",
    "* 混合型基金的数量较多；\n",
    "* 相比于货币型、债券型，混合型基金的风险和收益都高，更具有分析价值。\n",
    "\n",
    "### 混合型基金\n",
    "一、先挑选出混合型基金，并查看统计信息"
   ]
  },
  {
   "cell_type": "code",
   "execution_count": 5,
   "metadata": {},
   "outputs": [
    {
     "data": {
      "text/html": [
       "<div>\n",
       "<style scoped>\n",
       "    .dataframe tbody tr th:only-of-type {\n",
       "        vertical-align: middle;\n",
       "    }\n",
       "\n",
       "    .dataframe tbody tr th {\n",
       "        vertical-align: top;\n",
       "    }\n",
       "\n",
       "    .dataframe thead th {\n",
       "        text-align: right;\n",
       "    }\n",
       "</style>\n",
       "<table border=\"1\" class=\"dataframe\">\n",
       "  <thead>\n",
       "    <tr style=\"text-align: right;\">\n",
       "      <th></th>\n",
       "      <th>code</th>\n",
       "      <th>name</th>\n",
       "      <th>type</th>\n",
       "      <th>manager</th>\n",
       "      <th>company</th>\n",
       "    </tr>\n",
       "  </thead>\n",
       "  <tbody>\n",
       "    <tr>\n",
       "      <th>count</th>\n",
       "      <td>2609</td>\n",
       "      <td>2609</td>\n",
       "      <td>2609</td>\n",
       "      <td>2609</td>\n",
       "      <td>2609</td>\n",
       "    </tr>\n",
       "    <tr>\n",
       "      <th>unique</th>\n",
       "      <td>2609</td>\n",
       "      <td>2606</td>\n",
       "      <td>1</td>\n",
       "      <td>884</td>\n",
       "      <td>114</td>\n",
       "    </tr>\n",
       "    <tr>\n",
       "      <th>top</th>\n",
       "      <td>001823</td>\n",
       "      <td>中欧行业成长混合(LOF)</td>\n",
       "      <td>混合型</td>\n",
       "      <td>樊利安</td>\n",
       "      <td>鹏华基金</td>\n",
       "    </tr>\n",
       "    <tr>\n",
       "      <th>freq</th>\n",
       "      <td>1</td>\n",
       "      <td>3</td>\n",
       "      <td>2609</td>\n",
       "      <td>42</td>\n",
       "      <td>80</td>\n",
       "    </tr>\n",
       "  </tbody>\n",
       "</table>\n",
       "</div>"
      ],
      "text/plain": [
       "          code           name  type manager company\n",
       "count     2609           2609  2609    2609    2609\n",
       "unique    2609           2606     1     884     114\n",
       "top     001823  中欧行业成长混合(LOF)   混合型     樊利安    鹏华基金\n",
       "freq         1              3  2609      42      80"
      ]
     },
     "execution_count": 5,
     "metadata": {},
     "output_type": "execute_result"
    }
   ],
   "source": [
    "mixed_funds = funds[funds['type']==u\"混合型\"]\n",
    "mixed_funds.describe()"
   ]
  },
  {
   "cell_type": "markdown",
   "metadata": {},
   "source": [
    "884 个经理，114 家公司管理 1609 只混合型基金。与所有基金统计情况相比，约 66% 的经理都参与了混合型基金，93% 的公司都有混合型基金。可以看得出来，市场上最受欢迎的是混合型基金，其风险中高，收益中高。\n",
    "\n",
    "二、管理混合型最多的经理和公司\n",
    "\n",
    "网络上说，挑选基金主要看经理和公司。我们先查看一下管理混合型最多的经理和公司。"
   ]
  },
  {
   "cell_type": "code",
   "execution_count": 9,
   "metadata": {},
   "outputs": [
    {
     "data": {
      "image/png": "[encoded data removed]",
      "text/plain": [
       "<matplotlib.figure.Figure at 0x11273dad0>"
      ]
     },
     "metadata": {},
     "output_type": "display_data"
    }
   ],
   "source": [
    "mixed_funds['manager'].value_counts()[:10].plot('barh')\n",
    "plt.savefig('/Users/lli/Downloads/1.png',dpi=300)"
   ]
  },
  {
   "cell_type": "code",
   "execution_count": 10,
   "metadata": {},
   "outputs": [
    {
     "data": {
      "image/png": "[encoded data removed]",
      "text/plain": [
       "<matplotlib.figure.Figure at 0x1129675d0>"
      ]
     },
     "metadata": {},
     "output_type": "display_data"
    }
   ],
   "source": [
    "mixed_funds['company'].value_counts()[:10].plot(kind='barh')\n",
    "plt.savefig('/Users/lli/Downloads/1.png',dpi=300)"
   ]
  },
  {
   "cell_type": "markdown",
   "metadata": {},
   "source": [
    "# 小结\n",
    "\n",
    "大体上查看了所有基金的信息，并挑选出混合型基金作为后续研究。这里先将混合型基金信息保存为 mixed_funds.csv，之后结合其涨跌幅数据，进行下一步分析。"
   ]
  },
  {
   "cell_type": "code",
   "execution_count": 8,
   "metadata": {},
   "outputs": [],
   "source": [
    "mixed_funds.to_csv('mixed_funds.csv',index=False)"
   ]
  }
 ],
 "metadata": {
  "kernelspec": {
   "display_name": "Python 2",
   "language": "python",
   "name": "python2"
  },
  "language_info": {
   "codemirror_mode": {
    "name": "ipython",
    "version": 2
   },
   "file_extension": ".py",
   "mimetype": "text/x-python",
   "name": "python",
   "nbconvert_exporter": "python",
   "pygments_lexer": "ipython2",
   "version": "2.7.14"
  },
  "toc": {
   "colors": {
    "hover_highlight": "#DAA520",
    "navigate_num": "#000000",
    "navigate_text": "#333333",
    "running_highlight": "#FF0000",
    "selected_highlight": "#FFD700",
    "sidebar_border": "#EEEEEE",
    "wrapper_background": "#FFFFFF"
   },
   "moveMenuLeft": true,
   "nav_menu": {
    "height": "12px",
    "width": "252px"
   },
   "navigate_menu": true,
   "number_sections": true,
   "sideBar": true,
   "threshold": 4,
   "toc_cell": false,
   "toc_section_display": "block",
   "toc_window_display": false,
   "widenNotebook": false
  }
 },
 "nbformat": 4,
 "nbformat_minor": 2
}

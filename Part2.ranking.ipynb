{
 "cells": [
  {
   "cell_type": "code",
   "execution_count": 81,
   "metadata": {
    "collapsed": true
   },
   "outputs": [],
   "source": [
    "import numpy as np\n",
    "import pandas as pd\n",
    "from datetime import datetime\n",
    "import os\n",
    "import matplotlib.pyplot as plt\n",
    "%matplotlib inline\n",
    "import matplotlib as mpl\n",
    "mpl.rcParams['font.sans-serif'] = ['STHeiti']\n",
    "mpl.rcParams['font.serif'] = ['STHeiti']\n",
    "import seaborn as sns\n",
    "sns.set_style(\"darkgrid\",{\"font.sans-serif\":['STHeiti', 'STHeiti']})\n",
    "# Set Default Encoding\n",
    "import sys\n",
    "stdout = sys.stdout\n",
    "reload(sys)\n",
    "sys.setdefaultencoding('utf-8')\n",
    "sys.stdout = stdout"
   ]
  },
  {
   "cell_type": "markdown",
   "metadata": {},
   "source": [
    "# 前言\n",
    "第一部分练习了2017年的数据分析，这部分着重看一下每年基金收益排序的变化，是否存在稳定的高收益基金。\n",
    "# 数据分析"
   ]
  },
  {
   "cell_type": "code",
   "execution_count": 2,
   "metadata": {},
   "outputs": [],
   "source": [
    "# read the rate data of funds\n",
    "rate = pd.read_csv('mixed_funds_rate.csv')\n",
    "rate['date'] = pd.to_datetime(rate['date'])\n",
    "rate.set_index('date',inplace=True)\n",
    "rate.sort_index(ascending=True,inplace=True)"
   ]
  },
  {
   "cell_type": "markdown",
   "metadata": {},
   "source": [
    "查看一下全年都有数据的基金每年有多少只。"
   ]
  },
  {
   "cell_type": "code",
   "execution_count": 3,
   "metadata": {},
   "outputs": [
    {
     "name": "stdout",
     "output_type": "stream",
     "text": [
      "2001 2609\n",
      "2002 3\n",
      "2003 14\n",
      "2004 37\n",
      "2005 77\n",
      "2006 110\n",
      "2007 177\n",
      "2008 218\n",
      "2009 273\n",
      "2010 336\n",
      "2011 395\n",
      "2012 468\n",
      "2013 534\n",
      "2014 621\n",
      "2015 767\n",
      "2016 1372\n",
      "2017 2077\n"
     ]
    }
   ],
   "source": [
    "years = np.arange(2002,2018)\n",
    "for year in years:\n",
    "    data = rate[str(year)]\n",
    "    max_days_with_data = data.notnull().sum().max() - 50\n",
    "    funds_nums_with_data = (data.notnull().sum() > max_days_with_data).sum()\n",
    "    print year,funds_nums_with_data"
   ]
  },
  {
   "cell_type": "markdown",
   "metadata": {},
   "source": [
    "准备从 2006 年开始查看每只基金每年排名，排名依据为收益。"
   ]
  },
  {
   "cell_type": "code",
   "execution_count": 4,
   "metadata": {},
   "outputs": [],
   "source": [
    "rankings = pd.DataFrame(index=rate.columns)\n",
    "years = np.arange(2006,2018)\n",
    "for year in years:\n",
    "    data = rate[str(year)]\n",
    "    max_days_with_data = data.notnull().sum().max() - 50\n",
    "    df = data[data.columns[data.notnull().sum() > max_days_with_data]]\n",
    "    df.fillna(0,inplace=True)\n",
    "    ranking = (df/100+1).cumprod().ix[-1].rank()\n",
    "    rankings = pd.merge(rankings,ranking.to_frame(name=str(year)),how='outer',left_index=True,right_index=True)"
   ]
  },
  {
   "cell_type": "code",
   "execution_count": 10,
   "metadata": {},
   "outputs": [],
   "source": [
    "rankings.dropna(how='all',inplace=True)"
   ]
  },
  {
   "cell_type": "markdown",
   "metadata": {},
   "source": [
    "选出每年中排名在前1/10的次数较多的基金。"
   ]
  },
  {
   "cell_type": "code",
   "execution_count": 95,
   "metadata": {},
   "outputs": [],
   "source": [
    "num = (rankings.lt(rankings.notnull().sum()/10,axis='columns').sum(axis=1)>=3).sum()\n",
    "good = rankings.lt(rankings.notnull().sum()/10,axis='columns').sum(axis=1).order(ascending=False)[:num].index"
   ]
  },
  {
   "cell_type": "markdown",
   "metadata": {},
   "source": [
    "去掉 2016、2017年排名200外的。"
   ]
  },
  {
   "cell_type": "code",
   "execution_count": 111,
   "metadata": {},
   "outputs": [
    {
     "data": {
      "text/plain": [
       "Index([u'590002', u'290004', u'213003', u'161616', u'080015'], dtype='object')"
      ]
     },
     "execution_count": 111,
     "metadata": {},
     "output_type": "execute_result"
    }
   ],
   "source": [
    "top200 = (rankings.ix[good]['2016'] <200) & (rankings.ix[good]['2017']<200)\n",
    "good[top200]"
   ]
  },
  {
   "cell_type": "code",
   "execution_count": 112,
   "metadata": {},
   "outputs": [
    {
     "data": {
      "text/html": [
       "<div>\n",
       "<table border=\"1\" class=\"dataframe\">\n",
       "  <thead>\n",
       "    <tr style=\"text-align: right;\">\n",
       "      <th></th>\n",
       "      <th>2006</th>\n",
       "      <th>2007</th>\n",
       "      <th>2008</th>\n",
       "      <th>2009</th>\n",
       "      <th>2010</th>\n",
       "      <th>2011</th>\n",
       "      <th>2012</th>\n",
       "      <th>2013</th>\n",
       "      <th>2014</th>\n",
       "      <th>2015</th>\n",
       "      <th>2016</th>\n",
       "      <th>2017</th>\n",
       "    </tr>\n",
       "  </thead>\n",
       "  <tbody>\n",
       "    <tr>\n",
       "      <th>590002</th>\n",
       "      <td>NaN</td>\n",
       "      <td>NaN</td>\n",
       "      <td>3.0</td>\n",
       "      <td>217.0</td>\n",
       "      <td>12.0</td>\n",
       "      <td>18.0</td>\n",
       "      <td>54.0</td>\n",
       "      <td>112.0</td>\n",
       "      <td>534.0</td>\n",
       "      <td>492.0</td>\n",
       "      <td>92.0</td>\n",
       "      <td>41.0</td>\n",
       "    </tr>\n",
       "    <tr>\n",
       "      <th>290004</th>\n",
       "      <td>NaN</td>\n",
       "      <td>68.0</td>\n",
       "      <td>45.0</td>\n",
       "      <td>137.0</td>\n",
       "      <td>130.0</td>\n",
       "      <td>21.0</td>\n",
       "      <td>45.0</td>\n",
       "      <td>329.0</td>\n",
       "      <td>347.0</td>\n",
       "      <td>493.0</td>\n",
       "      <td>66.0</td>\n",
       "      <td>38.0</td>\n",
       "    </tr>\n",
       "    <tr>\n",
       "      <th>213003</th>\n",
       "      <td>NaN</td>\n",
       "      <td>21.0</td>\n",
       "      <td>96.0</td>\n",
       "      <td>143.0</td>\n",
       "      <td>10.0</td>\n",
       "      <td>227.0</td>\n",
       "      <td>280.0</td>\n",
       "      <td>70.0</td>\n",
       "      <td>611.0</td>\n",
       "      <td>588.0</td>\n",
       "      <td>120.0</td>\n",
       "      <td>84.0</td>\n",
       "    </tr>\n",
       "    <tr>\n",
       "      <th>161616</th>\n",
       "      <td>NaN</td>\n",
       "      <td>NaN</td>\n",
       "      <td>NaN</td>\n",
       "      <td>NaN</td>\n",
       "      <td>NaN</td>\n",
       "      <td>NaN</td>\n",
       "      <td>NaN</td>\n",
       "      <td>521.0</td>\n",
       "      <td>11.0</td>\n",
       "      <td>498.0</td>\n",
       "      <td>114.0</td>\n",
       "      <td>57.0</td>\n",
       "    </tr>\n",
       "    <tr>\n",
       "      <th>080015</th>\n",
       "      <td>NaN</td>\n",
       "      <td>NaN</td>\n",
       "      <td>NaN</td>\n",
       "      <td>NaN</td>\n",
       "      <td>NaN</td>\n",
       "      <td>NaN</td>\n",
       "      <td>NaN</td>\n",
       "      <td>54.0</td>\n",
       "      <td>297.0</td>\n",
       "      <td>5.0</td>\n",
       "      <td>96.0</td>\n",
       "      <td>78.0</td>\n",
       "    </tr>\n",
       "  </tbody>\n",
       "</table>\n",
       "</div>"
      ],
      "text/plain": [
       "        2006  2007  2008   2009   2010   2011   2012   2013   2014   2015  \\\n",
       "590002   NaN   NaN   3.0  217.0   12.0   18.0   54.0  112.0  534.0  492.0   \n",
       "290004   NaN  68.0  45.0  137.0  130.0   21.0   45.0  329.0  347.0  493.0   \n",
       "213003   NaN  21.0  96.0  143.0   10.0  227.0  280.0   70.0  611.0  588.0   \n",
       "161616   NaN   NaN   NaN    NaN    NaN    NaN    NaN  521.0   11.0  498.0   \n",
       "080015   NaN   NaN   NaN    NaN    NaN    NaN    NaN   54.0  297.0    5.0   \n",
       "\n",
       "         2016  2017  \n",
       "590002   92.0  41.0  \n",
       "290004   66.0  38.0  \n",
       "213003  120.0  84.0  \n",
       "161616  114.0  57.0  \n",
       "080015   96.0  78.0  "
      ]
     },
     "execution_count": 112,
     "metadata": {},
     "output_type": "execute_result"
    }
   ],
   "source": [
    "rankings.ix[good[top200]]"
   ]
  },
  {
   "cell_type": "code",
   "execution_count": 113,
   "metadata": {},
   "outputs": [
    {
     "data": {
      "text/plain": [
       "<matplotlib.axes._subplots.AxesSubplot at 0x10a66d4d0>"
      ]
     },
     "execution_count": 113,
     "metadata": {},
     "output_type": "execute_result"
    },
    {
     "data": {
      "image/png": "[encoded data removed]",
      "text/plain": [
       "<matplotlib.figure.Figure at 0x10eb8a3d0>"
      ]
     },
     "metadata": {},
     "output_type": "display_data"
    }
   ],
   "source": [
    "rankings.ix[good[top200]].T.plot()"
   ]
  },
  {
   "cell_type": "code",
   "execution_count": null,
   "metadata": {
    "collapsed": true
   },
   "outputs": [],
   "source": []
  }
 ],
 "metadata": {
  "kernelspec": {
   "display_name": "Python 2",
   "language": "python",
   "name": "python2"
  },
  "language_info": {
   "codemirror_mode": {
    "name": "ipython",
    "version": 2
   },
   "file_extension": ".py",
   "mimetype": "text/x-python",
   "name": "python",
   "nbconvert_exporter": "python",
   "pygments_lexer": "ipython2",
   "version": "2.7.11"
  },
  "toc": {
   "colors": {
    "hover_highlight": "#DAA520",
    "navigate_num": "#000000",
    "navigate_text": "#333333",
    "running_highlight": "#FF0000",
    "selected_highlight": "#FFD700",
    "sidebar_border": "#EEEEEE",
    "wrapper_background": "#FFFFFF"
   },
   "moveMenuLeft": true,
   "nav_menu": {
    "height": "48px",
    "width": "252px"
   },
   "navigate_menu": true,
   "number_sections": true,
   "sideBar": true,
   "threshold": 4,
   "toc_cell": false,
   "toc_section_display": "block",
   "toc_window_display": false,
   "widenNotebook": false
  }
 },
 "nbformat": 4,
 "nbformat_minor": 2
}

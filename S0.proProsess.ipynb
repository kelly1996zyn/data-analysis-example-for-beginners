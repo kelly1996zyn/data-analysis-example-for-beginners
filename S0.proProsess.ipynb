{
 "cells": [
  {
   "cell_type": "code",
   "execution_count": 1,
   "metadata": {
    "collapsed": true
   },
   "outputs": [],
   "source": [
    "import numpy as np\n",
    "import pandas as pd\n",
    "from datetime import datetime\n",
    "import os\n",
    "import matplotlib.pyplot as plt\n",
    "%matplotlib inline\n",
    "import matplotlib as mpl\n",
    "mpl.rcParams['font.sans-serif'] = ['STHeiti']\n",
    "mpl.rcParams['font.serif'] = ['STHeiti']\n",
    "import seaborn as sns\n",
    "sns.set_style(\"darkgrid\",{\"font.sans-serif\":['STHeiti', 'STHeiti']})\n",
    "# Set Default Encoding\n",
    "import sys\n",
    "stdout = sys.stdout\n",
    "reload(sys)\n",
    "sys.setdefaultencoding('utf-8')\n",
    "sys.stdout = stdout"
   ]
  },
  {
   "cell_type": "markdown",
   "metadata": {},
   "source": [
    "# 数据说明\n",
    "共爬取了两类数据：\n",
    "* 基金信息 (基金代码、基金经理、基金管理公司等)\n",
    "* 基金净值变化数据 (单位净值、累计净值、日变化率)\n",
    "\n",
    "# 数据预处理\n",
    "根据数据爬取情况，缺失部分基金的净值变化数据。选出有净值变化的基金，并将其基金信息保存为文件。\n",
    "## 判断是否存在净值数据"
   ]
  },
  {
   "cell_type": "code",
   "execution_count": 10,
   "metadata": {
    "collapsed": true
   },
   "outputs": [],
   "source": [
    "NAV_data_path = os.getcwd()+'/data/fundNAVData/'\n",
    "files = os.listdir(NAV_data_path)\n",
    "NAV_list = []\n",
    "for file_name in files:\n",
    "    path_file = os.path.join(NAV_data_path,file_name)\n",
    "    if os.path.getsize(path_file) != 0:\n",
    "        NAV_list.append(file_name.split('.')[0])  \n",
    "# NAV_list\n",
    "NAV_list = pd.DataFrame(NAV_list,columns=['code'])"
   ]
  },
  {
   "cell_type": "markdown",
   "metadata": {},
   "source": [
    "## 选出含有净值数据的基金信息"
   ]
  },
  {
   "cell_type": "code",
   "execution_count": 13,
   "metadata": {
    "collapsed": true
   },
   "outputs": [],
   "source": [
    "# fund_list\n",
    "fund_list = pd.read_csv('./data/FundList.csv',header=None,names=['code','name','url'],dtype={'code':'str'})\n",
    "# merge: the fund_list and NAV_list\n",
    "NAV_fund_list = pd.merge(NAV_list,fund_list,on=['code'],how='left')\n",
    "# fund_info_list\n",
    "fund_info_list = pd.read_csv('./data/FundInfo.csv',header=None,names=['code','type','manager','company'],dtype={'code':str})\n",
    "# merge: NAV_fund_list and fund_info_list\n",
    "final_list = pd.merge(NAV_fund_list,fund_info_list,on=['code'])"
   ]
  },
  {
   "cell_type": "code",
   "execution_count": 14,
   "metadata": {},
   "outputs": [
    {
     "data": {
      "text/html": [
       "<div>\n",
       "<table border=\"1\" class=\"dataframe\">\n",
       "  <thead>\n",
       "    <tr style=\"text-align: right;\">\n",
       "      <th></th>\n",
       "      <th>code</th>\n",
       "      <th>name</th>\n",
       "      <th>url</th>\n",
       "      <th>type</th>\n",
       "      <th>manager</th>\n",
       "      <th>company</th>\n",
       "    </tr>\n",
       "  </thead>\n",
       "  <tbody>\n",
       "    <tr>\n",
       "      <th>0</th>\n",
       "      <td>000001</td>\n",
       "      <td>华夏成长</td>\n",
       "      <td>http://fund.eastmoney.com/000001.html</td>\n",
       "      <td>混合型</td>\n",
       "      <td>董阳阳</td>\n",
       "      <td>华夏基金</td>\n",
       "    </tr>\n",
       "    <tr>\n",
       "      <th>1</th>\n",
       "      <td>000003</td>\n",
       "      <td>中海可转债A</td>\n",
       "      <td>http://fund.eastmoney.com/000003.html</td>\n",
       "      <td>债券型</td>\n",
       "      <td>江小震</td>\n",
       "      <td>中海基金</td>\n",
       "    </tr>\n",
       "    <tr>\n",
       "      <th>2</th>\n",
       "      <td>000004</td>\n",
       "      <td>中海可转债C</td>\n",
       "      <td>http://fund.eastmoney.com/000004.html</td>\n",
       "      <td>债券型</td>\n",
       "      <td>江小震</td>\n",
       "      <td>中海基金</td>\n",
       "    </tr>\n",
       "    <tr>\n",
       "      <th>3</th>\n",
       "      <td>000005</td>\n",
       "      <td>嘉实增强信用定期债券</td>\n",
       "      <td>http://fund.eastmoney.com/000005.html</td>\n",
       "      <td>定开债券</td>\n",
       "      <td>刘宁</td>\n",
       "      <td>嘉实基金</td>\n",
       "    </tr>\n",
       "    <tr>\n",
       "      <th>4</th>\n",
       "      <td>000007</td>\n",
       "      <td>鹏华国企债债券</td>\n",
       "      <td>http://fund.eastmoney.com/000007.html</td>\n",
       "      <td>债券型</td>\n",
       "      <td>刘涛</td>\n",
       "      <td>鹏华基金</td>\n",
       "    </tr>\n",
       "  </tbody>\n",
       "</table>\n",
       "</div>"
      ],
      "text/plain": [
       "     code        name                                    url  type manager  \\\n",
       "0  000001        华夏成长  http://fund.eastmoney.com/000001.html   混合型     董阳阳   \n",
       "1  000003      中海可转债A  http://fund.eastmoney.com/000003.html   债券型     江小震   \n",
       "2  000004      中海可转债C  http://fund.eastmoney.com/000004.html   债券型     江小震   \n",
       "3  000005  嘉实增强信用定期债券  http://fund.eastmoney.com/000005.html  定开债券      刘宁   \n",
       "4  000007     鹏华国企债债券  http://fund.eastmoney.com/000007.html   债券型      刘涛   \n",
       "\n",
       "  company  \n",
       "0    华夏基金  \n",
       "1    中海基金  \n",
       "2    中海基金  \n",
       "3    嘉实基金  \n",
       "4    鹏华基金  "
      ]
     },
     "execution_count": 14,
     "metadata": {},
     "output_type": "execute_result"
    }
   ],
   "source": [
    "final_list.head()"
   ]
  },
  {
   "cell_type": "code",
   "execution_count": 15,
   "metadata": {
    "collapsed": true
   },
   "outputs": [],
   "source": [
    "final_list.to_csv('funds.csv')"
   ]
  },
  {
   "cell_type": "markdown",
   "metadata": {
    "collapsed": true
   },
   "source": [
    "# 净值数据处理"
   ]
  },
  {
   "cell_type": "code",
   "execution_count": null,
   "metadata": {
    "collapsed": true
   },
   "outputs": [],
   "source": []
  }
 ],
 "metadata": {
  "kernelspec": {
   "display_name": "Python 2",
   "language": "python",
   "name": "python2"
  },
  "language_info": {
   "codemirror_mode": {
    "name": "ipython",
    "version": 2
   },
   "file_extension": ".py",
   "mimetype": "text/x-python",
   "name": "python",
   "nbconvert_exporter": "python",
   "pygments_lexer": "ipython2",
   "version": "2.7.11"
  },
  "toc": {
   "colors": {
    "hover_highlight": "#DAA520",
    "navigate_num": "#000000",
    "navigate_text": "#333333",
    "running_highlight": "#FF0000",
    "selected_highlight": "#FFD700",
    "sidebar_border": "#EEEEEE",
    "wrapper_background": "#FFFFFF"
   },
   "moveMenuLeft": true,
   "nav_menu": {
    "height": "66px",
    "width": "252px"
   },
   "navigate_menu": true,
   "number_sections": true,
   "sideBar": true,
   "threshold": 4,
   "toc_cell": false,
   "toc_section_display": "block",
   "toc_window_display": false,
   "widenNotebook": false
  }
 },
 "nbformat": 4,
 "nbformat_minor": 2
}

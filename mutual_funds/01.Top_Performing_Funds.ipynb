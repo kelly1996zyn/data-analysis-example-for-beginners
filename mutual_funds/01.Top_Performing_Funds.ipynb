{
 "cells": [
  {
   "cell_type": "code",
   "execution_count": 1,
   "metadata": {},
   "outputs": [],
   "source": [
    "import numpy as np\n",
    "import pandas as pd\n",
    "import os\n",
    "import matplotlib.pyplot as plt\n",
    "%matplotlib inline\n",
    "import matplotlib as mpl\n",
    "mpl.rcParams['font.sans-serif'] = ['STHeiti']\n",
    "mpl.rcParams['font.serif'] = ['STHeiti']\n",
    "import seaborn as sns\n",
    "sns.set_style(\"darkgrid\",{\"font.sans-serif\":['STHeiti', 'STHeiti']})\n",
    "# Set Default Encoding\n",
    "import sys\n",
    "stdout = sys.stdout\n",
    "reload(sys)\n",
    "sys.setdefaultencoding('utf-8')\n",
    "sys.stdout = stdout"
   ]
  },
  {
   "cell_type": "markdown",
   "metadata": {},
   "source": [
    "# 基金涨跌幅数据\n",
    "▍ 先查看一下基金涨跌幅数据。"
   ]
  },
  {
   "cell_type": "code",
   "execution_count": 2,
   "metadata": {},
   "outputs": [
    {
     "data": {
      "text/html": [
       "<div>\n",
       "<style scoped>\n",
       "    .dataframe tbody tr th:only-of-type {\n",
       "        vertical-align: middle;\n",
       "    }\n",
       "\n",
       "    .dataframe tbody tr th {\n",
       "        vertical-align: top;\n",
       "    }\n",
       "\n",
       "    .dataframe thead th {\n",
       "        text-align: right;\n",
       "    }\n",
       "</style>\n",
       "<table border=\"1\" class=\"dataframe\">\n",
       "  <thead>\n",
       "    <tr style=\"text-align: right;\">\n",
       "      <th></th>\n",
       "      <th>000001</th>\n",
       "      <th>000011</th>\n",
       "      <th>000017</th>\n",
       "      <th>000020</th>\n",
       "      <th>000021</th>\n",
       "      <th>000029</th>\n",
       "      <th>000031</th>\n",
       "      <th>000039</th>\n",
       "      <th>000056</th>\n",
       "      <th>000057</th>\n",
       "      <th>...</th>\n",
       "      <th>710001</th>\n",
       "      <th>710002</th>\n",
       "      <th>720001</th>\n",
       "      <th>730001</th>\n",
       "      <th>730002</th>\n",
       "      <th>740001</th>\n",
       "      <th>750001</th>\n",
       "      <th>750005</th>\n",
       "      <th>762001</th>\n",
       "      <th>770001</th>\n",
       "    </tr>\n",
       "    <tr>\n",
       "      <th>date</th>\n",
       "      <th></th>\n",
       "      <th></th>\n",
       "      <th></th>\n",
       "      <th></th>\n",
       "      <th></th>\n",
       "      <th></th>\n",
       "      <th></th>\n",
       "      <th></th>\n",
       "      <th></th>\n",
       "      <th></th>\n",
       "      <th></th>\n",
       "      <th></th>\n",
       "      <th></th>\n",
       "      <th></th>\n",
       "      <th></th>\n",
       "      <th></th>\n",
       "      <th></th>\n",
       "      <th></th>\n",
       "      <th></th>\n",
       "      <th></th>\n",
       "      <th></th>\n",
       "    </tr>\n",
       "  </thead>\n",
       "  <tbody>\n",
       "    <tr>\n",
       "      <th>2017-10-30</th>\n",
       "      <td>-0.57</td>\n",
       "      <td>0.31</td>\n",
       "      <td>-0.71</td>\n",
       "      <td>-0.52</td>\n",
       "      <td>-0.37</td>\n",
       "      <td>-0.61</td>\n",
       "      <td>-0.98</td>\n",
       "      <td>-1.28</td>\n",
       "      <td>-0.10</td>\n",
       "      <td>-0.13</td>\n",
       "      <td>...</td>\n",
       "      <td>-0.02</td>\n",
       "      <td>-0.08</td>\n",
       "      <td>-1.67</td>\n",
       "      <td>-1.29</td>\n",
       "      <td>-0.16</td>\n",
       "      <td>-0.96</td>\n",
       "      <td>-1.03</td>\n",
       "      <td>-0.02</td>\n",
       "      <td>-0.67</td>\n",
       "      <td>-0.33</td>\n",
       "    </tr>\n",
       "    <tr>\n",
       "      <th>2017-10-27</th>\n",
       "      <td>0.32</td>\n",
       "      <td>0.61</td>\n",
       "      <td>1.32</td>\n",
       "      <td>0.17</td>\n",
       "      <td>0.48</td>\n",
       "      <td>0.86</td>\n",
       "      <td>-0.11</td>\n",
       "      <td>0.99</td>\n",
       "      <td>0.25</td>\n",
       "      <td>0.78</td>\n",
       "      <td>...</td>\n",
       "      <td>-0.09</td>\n",
       "      <td>-0.09</td>\n",
       "      <td>0.45</td>\n",
       "      <td>-0.16</td>\n",
       "      <td>0.90</td>\n",
       "      <td>-0.14</td>\n",
       "      <td>0.00</td>\n",
       "      <td>0.09</td>\n",
       "      <td>-0.13</td>\n",
       "      <td>0.74</td>\n",
       "    </tr>\n",
       "    <tr>\n",
       "      <th>2017-10-26</th>\n",
       "      <td>0.41</td>\n",
       "      <td>-0.13</td>\n",
       "      <td>1.09</td>\n",
       "      <td>0.44</td>\n",
       "      <td>0.27</td>\n",
       "      <td>0.31</td>\n",
       "      <td>0.11</td>\n",
       "      <td>1.36</td>\n",
       "      <td>0.05</td>\n",
       "      <td>0.59</td>\n",
       "      <td>...</td>\n",
       "      <td>0.60</td>\n",
       "      <td>0.19</td>\n",
       "      <td>0.09</td>\n",
       "      <td>-0.40</td>\n",
       "      <td>0.25</td>\n",
       "      <td>0.55</td>\n",
       "      <td>-0.26</td>\n",
       "      <td>0.03</td>\n",
       "      <td>0.15</td>\n",
       "      <td>0.44</td>\n",
       "    </tr>\n",
       "    <tr>\n",
       "      <th>2017-10-25</th>\n",
       "      <td>0.41</td>\n",
       "      <td>0.86</td>\n",
       "      <td>0.37</td>\n",
       "      <td>1.11</td>\n",
       "      <td>0.87</td>\n",
       "      <td>0.68</td>\n",
       "      <td>0.22</td>\n",
       "      <td>-0.08</td>\n",
       "      <td>0.55</td>\n",
       "      <td>0.33</td>\n",
       "      <td>...</td>\n",
       "      <td>2.24</td>\n",
       "      <td>0.66</td>\n",
       "      <td>0.32</td>\n",
       "      <td>0.49</td>\n",
       "      <td>0.58</td>\n",
       "      <td>0.49</td>\n",
       "      <td>0.60</td>\n",
       "      <td>0.03</td>\n",
       "      <td>0.05</td>\n",
       "      <td>0.83</td>\n",
       "    </tr>\n",
       "    <tr>\n",
       "      <th>2017-10-24</th>\n",
       "      <td>0.25</td>\n",
       "      <td>0.79</td>\n",
       "      <td>0.00</td>\n",
       "      <td>0.27</td>\n",
       "      <td>0.11</td>\n",
       "      <td>0.25</td>\n",
       "      <td>0.22</td>\n",
       "      <td>-0.05</td>\n",
       "      <td>0.40</td>\n",
       "      <td>0.40</td>\n",
       "      <td>...</td>\n",
       "      <td>0.11</td>\n",
       "      <td>0.13</td>\n",
       "      <td>0.00</td>\n",
       "      <td>0.16</td>\n",
       "      <td>0.50</td>\n",
       "      <td>-0.07</td>\n",
       "      <td>0.17</td>\n",
       "      <td>0.15</td>\n",
       "      <td>0.26</td>\n",
       "      <td>0.33</td>\n",
       "    </tr>\n",
       "  </tbody>\n",
       "</table>\n",
       "<p>5 rows × 2609 columns</p>\n",
       "</div>"
      ],
      "text/plain": [
       "            000001  000011  000017  000020  000021  000029  000031  000039  \\\n",
       "date                                                                         \n",
       "2017-10-30   -0.57    0.31   -0.71   -0.52   -0.37   -0.61   -0.98   -1.28   \n",
       "2017-10-27    0.32    0.61    1.32    0.17    0.48    0.86   -0.11    0.99   \n",
       "2017-10-26    0.41   -0.13    1.09    0.44    0.27    0.31    0.11    1.36   \n",
       "2017-10-25    0.41    0.86    0.37    1.11    0.87    0.68    0.22   -0.08   \n",
       "2017-10-24    0.25    0.79    0.00    0.27    0.11    0.25    0.22   -0.05   \n",
       "\n",
       "            000056  000057   ...    710001  710002  720001  730001  730002  \\\n",
       "date                         ...                                             \n",
       "2017-10-30   -0.10   -0.13   ...     -0.02   -0.08   -1.67   -1.29   -0.16   \n",
       "2017-10-27    0.25    0.78   ...     -0.09   -0.09    0.45   -0.16    0.90   \n",
       "2017-10-26    0.05    0.59   ...      0.60    0.19    0.09   -0.40    0.25   \n",
       "2017-10-25    0.55    0.33   ...      2.24    0.66    0.32    0.49    0.58   \n",
       "2017-10-24    0.40    0.40   ...      0.11    0.13    0.00    0.16    0.50   \n",
       "\n",
       "            740001  750001  750005  762001  770001  \n",
       "date                                                \n",
       "2017-10-30   -0.96   -1.03   -0.02   -0.67   -0.33  \n",
       "2017-10-27   -0.14    0.00    0.09   -0.13    0.74  \n",
       "2017-10-26    0.55   -0.26    0.03    0.15    0.44  \n",
       "2017-10-25    0.49    0.60    0.03    0.05    0.83  \n",
       "2017-10-24   -0.07    0.17    0.15    0.26    0.33  \n",
       "\n",
       "[5 rows x 2609 columns]"
      ]
     },
     "execution_count": 2,
     "metadata": {},
     "output_type": "execute_result"
    }
   ],
   "source": [
    "rate = pd.read_csv('./data/mixed_funds_rate.csv')\n",
    "rate['date'] = pd.to_datetime(rate['date'])\n",
    "rate.set_index('date',inplace=True)\n",
    "rate.head()"
   ]
  },
  {
   "cell_type": "markdown",
   "metadata": {},
   "source": [
    "数据为基金当天涨跌幅数据百分比，如 000001 基金 2017-10-30 的涨跌幅为 -0.57%。\n",
    "\n",
    "▍查看全年都有数据的基金每年有多少只"
   ]
  },
  {
   "cell_type": "code",
   "execution_count": 3,
   "metadata": {},
   "outputs": [
    {
     "data": {
      "image/png": "[encoded data removed]",
      "text/plain": [
       "<matplotlib.figure.Figure at 0x102836e10>"
      ]
     },
     "metadata": {},
     "output_type": "display_data"
    }
   ],
   "source": [
    "years = np.arange(2001,2018)\n",
    "funds_nums_with_data = []\n",
    "for year in years:\n",
    "    data = rate[str(year)]\n",
    "    max_days_with_data = data.notnull().sum().max()\n",
    "    funds_nums_with_data.append((data.notnull().sum() == max_days_with_data).sum())\n",
    "year_count = pd.DataFrame()\n",
    "year_count['nums'] = funds_nums_with_data\n",
    "year_count['year'] = years.astype(str)\n",
    "year_count['year'] = pd.to_datetime(year_count['year'])\n",
    "year_count.set_index('year',inplace=True)\n",
    "ax = year_count.plot(kind='bar')\n",
    "xtl=[item.get_text()[:4] for item in ax.get_xticklabels()]\n",
    "ax.set_xticklabels(xtl)\n",
    "plt.gcf().autofmt_xdate()"
   ]
  },
  {
   "cell_type": "markdown",
   "metadata": {},
   "source": [
    "可以看到，国内基金的历史相对较短，近几年才出现了大量的混合型基金。考虑各方面的原因，提取后两年的数据作为基金评分的基础。"
   ]
  },
  {
   "cell_type": "code",
   "execution_count": 4,
   "metadata": {},
   "outputs": [
    {
     "data": {
      "text/plain": [
       "<matplotlib.axes._subplots.AxesSubplot at 0x1045e6b10>"
      ]
     },
     "execution_count": 4,
     "metadata": {},
     "output_type": "execute_result"
    },
    {
     "data": {
      "image/png": "[encoded data removed]",
      "text/plain": [
       "<matplotlib.figure.Figure at 0x104603310>"
      ]
     },
     "metadata": {},
     "output_type": "display_data"
    }
   ],
   "source": [
    "df = rate['2016':'2017'].dropna(how='all')\n",
    "#df = rate['2017'].dropna(how='all')\n",
    "df.notnull().sum().plot(ls='None',marker='.')"
   ]
  },
  {
   "cell_type": "markdown",
   "metadata": {},
   "source": [
    "删除数据少于 400 个点的基金，并用 0 填充剩下的NAN。"
   ]
  },
  {
   "cell_type": "code",
   "execution_count": 5,
   "metadata": {},
   "outputs": [],
   "source": [
    "df400 = df[df.columns[df.notnull().sum()>400]].fillna(0)\n",
    "#df400 = df.fillna(0)\n",
    "df400.sort_index(ascending=True,inplace=True)"
   ]
  },
  {
   "cell_type": "code",
   "execution_count": 6,
   "metadata": {},
   "outputs": [],
   "source": [
    "df400.to_csv('data/two_years_data.csv')"
   ]
  },
  {
   "cell_type": "markdown",
   "metadata": {},
   "source": [
    "# 基金评分\n",
    "## 基金评分依据\n",
    "参考于[5 Ways To Measure Mutual Fund Risk](https://www.investopedia.com/articles/mutualfund/112002.asp)，计算每只基金的以下参数：\n",
    "* $Returns$：收益\n",
    "* $Alpha$：阿尔法\n",
    "* $Beta$：贝塔\n",
    "* $R-Squared$：R平方\n",
    "* $std$：标准差\n",
    "\n",
    "**Note:** 非专业人士，某些参数的计算可能存在理解错误，与专业的存在差别，不过不影响数据分析练手。\n",
    "\n",
    "\n",
    "\n",
    "***\n",
    "\n",
    "计算收益的公式，$r_i$ 为某只基金某天的跌涨幅： \n",
    "\n",
    "$Returns = \\prod(r_i+1)$\n",
    "***\n",
    "计算 $Beta$ 的公式，$\\rho$ 为某基金和市场的相关系数，$\\sigma_i$ 为某基金收益的标准差，$\\sigma$ 为市场收益的标准差。\n",
    "\n",
    "$Beta = \\rho\\cdot\\frac{\\sigma_i}{\\sigma}$\n",
    "***\n",
    "\n",
    "计算 $Alpha$ 的公式，$r_p$ 某基金年化收益率，$r_m$ 市场年化收益率，$r_f$ 为无风险回报率，一般设为 0.03： \n",
    "\n",
    "$r_p -r_f = Alpha + Beta\\times (r_m-r_f)$\n",
    "***\n",
    "计算R平方的公式：\n",
    "\n",
    "$R\\_Squared = \\rho^2\\times 100$\n",
    "***\n",
    "## 基金评分计算\n",
    "### 基金跌涨幅平均值和沪深300\n",
    "准备采用混合型基金的平均表现作为市场表现，先查看一下平均表现和沪深 300 的表现。"
   ]
  },
  {
   "cell_type": "code",
   "execution_count": 7,
   "metadata": {},
   "outputs": [
    {
     "data": {
      "text/plain": [
       "<matplotlib.legend.Legend at 0x10a69a1d0>"
      ]
     },
     "execution_count": 7,
     "metadata": {},
     "output_type": "execute_result"
    },
    {
     "data": {
      "image/png": "[encoded data removed]",
      "text/plain": [
       "<matplotlib.figure.Figure at 0x10a646e50>"
      ]
     },
     "metadata": {},
     "output_type": "display_data"
    }
   ],
   "source": [
    "rm = df400.mean(axis=1)\n",
    "returns_mean = (rm/100+1).cumprod()-1\n",
    "hs300 = pd.read_csv('./data/hs300.csv',header=None,names={'date','hs300'})\n",
    "hs300['date'] = pd.to_datetime(hs300['date'])\n",
    "hs300.set_index('date',inplace=True)\n",
    "hs300.sort_index(ascending=True,inplace=True)\n",
    "hs_returns = (hs300/100+1).cumprod()-1\n",
    "#plot the data along with the fund line\n",
    "hs_returns.plot(label=u'沪深300')\n",
    "returns_mean.plot(label=u'混合型基金平均表现')\n",
    "plt.legend()"
   ]
  },
  {
   "cell_type": "markdown",
   "metadata": {},
   "source": [
    "基本一致，就把基金的平均值当成市场表现吧。"
   ]
  },
  {
   "cell_type": "markdown",
   "metadata": {
    "collapsed": true
   },
   "source": [
    "### 年化收益\n",
    "这里的收益采用上述的公式计算，并按照一年 250 个交易日换算为年收益。对所有基金2016和2017年的数据进行计算，并排名。对于基金来说，收益越高越好。"
   ]
  },
  {
   "cell_type": "code",
   "execution_count": 8,
   "metadata": {},
   "outputs": [],
   "source": [
    "returns = ((df400/100+1).cumprod().ix[-1]-1)*250/len(df400)\n",
    "#returns.plot(kind='hist',bins=100)\n",
    "#plt.xlabel('Returns')"
   ]
  },
  {
   "cell_type": "markdown",
   "metadata": {},
   "source": [
    "### Beta\n",
    "Beta 表示的是某一基金相对于市场的表现情况。其绝对值越大，表示其收益变化的幅度相对市场的变化幅度越大。反映了基金对于市场变化的敏感性。例如某基金的 Beta 为 1.5，则市场变化 1% 时，基金变化 1.5%。Beta 为正，表示其走向和市场走向一致。"
   ]
  },
  {
   "cell_type": "code",
   "execution_count": 9,
   "metadata": {},
   "outputs": [],
   "source": [
    "beta = {}\n",
    "for code in df400.columns:\n",
    "    rho = rm.corr(df400[code])\n",
    "    beta[code] = rho*df400[code].std()/rm.std()    "
   ]
  },
  {
   "cell_type": "code",
   "execution_count": 10,
   "metadata": {},
   "outputs": [],
   "source": [
    "beta = pd.Series(beta)\n",
    "#pd.Series(beta).plot(kind='hist', bins=100)"
   ]
  },
  {
   "cell_type": "markdown",
   "metadata": {},
   "source": [
    "beta 主要为两部分，一部分为 0，说明该部分基金对市场不敏感，另一部分为 1.5 左右，该部分基金的涨跌幅波动是市场的 1.5 倍。"
   ]
  },
  {
   "cell_type": "markdown",
   "metadata": {},
   "source": [
    "### Alpha\n",
    "Alpha 是基金的绝对回报和按照 beta 系数计算的预期回报之间的差额。Alpha 是投资者获得与市场波动无关的回报。比如投资者获得了15%的回报，其基准获得了 10% 的回报，那么 Alpha 的部分就是5%。现代金融理论认为，证券投资的额外收益率可以看做两部分之和。第一部分是和整个市场无关的，叫 alpha；第二部分是整个市场的平均收益率乘以一个 beta 系数。beta 的获取与市场走势相关，相对容易。考验本领的地方为 alpha 的获取，这是相对于市场，获得的超额收益。alpha 为正，表示获得了超过市场的超额收益，该基金的价格可能被低估，可以买入，反之亦然。"
   ]
  },
  {
   "cell_type": "code",
   "execution_count": 11,
   "metadata": {},
   "outputs": [],
   "source": [
    "R_m = returns_mean.ix[-1]*250/len(df400)\n",
    "r_f = 0.03\n",
    "alpha = returns-r_f - pd.Series(beta)* (R_m-r_f)"
   ]
  },
  {
   "cell_type": "code",
   "execution_count": 12,
   "metadata": {},
   "outputs": [],
   "source": [
    "#alpha.plot(kind='hist',bins=100)"
   ]
  },
  {
   "cell_type": "markdown",
   "metadata": {},
   "source": [
    "与 Beta 相比，大部分基金没有 alpha，部分基金的整体表示还不如市场。\n",
    "### R平方\n",
    "R平方反映的是市场的变动对基金表现的影响。R 为 100 表示基金的表现完全受市场的影响。与 beta 的区别为，R平方表示的基金表现与市场的相关程度，beta 表示的是基金表现相对于市场的幅度。一般而言，基金的R平方值越高，其 alpha 和 beta 系数的准确性便越高。"
   ]
  },
  {
   "cell_type": "code",
   "execution_count": 13,
   "metadata": {},
   "outputs": [],
   "source": [
    "r_squared = {}\n",
    "for code in df400.columns:\n",
    "    r_squared[code] = rm.corr(df400[code])**2*100\n",
    "r_squared = pd.Series(r_squared)\n",
    "#r_squared.plot(kind='hist',bins=100)"
   ]
  },
  {
   "cell_type": "markdown",
   "metadata": {},
   "source": [
    "### 标准差\n",
    "标准差表示基金表现的波动性，数值越小，基金越稳定。"
   ]
  },
  {
   "cell_type": "code",
   "execution_count": 14,
   "metadata": {},
   "outputs": [],
   "source": [
    "std = df400.std()\n",
    "#std.plot(kind='hist',bins=100)"
   ]
  },
  {
   "cell_type": "markdown",
   "metadata": {},
   "source": [
    "### 数据整合"
   ]
  },
  {
   "cell_type": "code",
   "execution_count": 15,
   "metadata": {},
   "outputs": [
    {
     "data": {
      "text/plain": [
       "array([[<matplotlib.axes._subplots.AxesSubplot object at 0x10a50fe10>,\n",
       "        <matplotlib.axes._subplots.AxesSubplot object at 0x102375550>,\n",
       "        <matplotlib.axes._subplots.AxesSubplot object at 0x10a480510>],\n",
       "       [<matplotlib.axes._subplots.AxesSubplot object at 0x10d7cdfd0>,\n",
       "        <matplotlib.axes._subplots.AxesSubplot object at 0x10aa6ba10>,\n",
       "        <matplotlib.axes._subplots.AxesSubplot object at 0x10aab94d0>]], dtype=object)"
      ]
     },
     "execution_count": 15,
     "metadata": {},
     "output_type": "execute_result"
    },
    {
     "data": {
      "image/png": "[encoded data removed]",
      "text/plain": [
       "<matplotlib.figure.Figure at 0x10a50f810>"
      ]
     },
     "metadata": {},
     "output_type": "display_data"
    }
   ],
   "source": [
    "fund_performance = returns.to_frame()\n",
    "fund_performance.columns = ['return']\n",
    "fund_performance['beta'] = beta\n",
    "fund_performance['alpha'] = alpha\n",
    "fund_performance['r_squared'] = r_squared\n",
    "fund_performance['std'] = std\n",
    "fund_performance.hist(bins=100,figsize=(10,6),layout=[2,3])"
   ]
  },
  {
   "cell_type": "markdown",
   "metadata": {},
   "source": [
    "# 基金分析\n",
    "## 初步分析\n",
    "基金的选取还是很复杂的问题，我们把问题简单化，选择的基金收益和alpha尽量高，beta大于 1，R平方在80-100，标准差尽量小。"
   ]
  },
  {
   "cell_type": "code",
   "execution_count": 16,
   "metadata": {},
   "outputs": [
    {
     "data": {
      "text/html": [
       "<div>\n",
       "<style scoped>\n",
       "    .dataframe tbody tr th:only-of-type {\n",
       "        vertical-align: middle;\n",
       "    }\n",
       "\n",
       "    .dataframe tbody tr th {\n",
       "        vertical-align: top;\n",
       "    }\n",
       "\n",
       "    .dataframe thead th {\n",
       "        text-align: right;\n",
       "    }\n",
       "</style>\n",
       "<table border=\"1\" class=\"dataframe\">\n",
       "  <thead>\n",
       "    <tr style=\"text-align: right;\">\n",
       "      <th></th>\n",
       "      <th>return</th>\n",
       "      <th>beta</th>\n",
       "      <th>alpha</th>\n",
       "      <th>r_squared</th>\n",
       "      <th>std</th>\n",
       "    </tr>\n",
       "  </thead>\n",
       "  <tbody>\n",
       "    <tr>\n",
       "      <th>return</th>\n",
       "      <td>1.000000</td>\n",
       "      <td>-0.444428</td>\n",
       "      <td>0.999483</td>\n",
       "      <td>-0.396192</td>\n",
       "      <td>-0.225333</td>\n",
       "    </tr>\n",
       "    <tr>\n",
       "      <th>beta</th>\n",
       "      <td>-0.444428</td>\n",
       "      <td>1.000000</td>\n",
       "      <td>-0.415403</td>\n",
       "      <td>0.913072</td>\n",
       "      <td>0.804790</td>\n",
       "    </tr>\n",
       "    <tr>\n",
       "      <th>alpha</th>\n",
       "      <td>0.999483</td>\n",
       "      <td>-0.415403</td>\n",
       "      <td>1.000000</td>\n",
       "      <td>-0.369542</td>\n",
       "      <td>-0.199931</td>\n",
       "    </tr>\n",
       "    <tr>\n",
       "      <th>r_squared</th>\n",
       "      <td>-0.396192</td>\n",
       "      <td>0.913072</td>\n",
       "      <td>-0.369542</td>\n",
       "      <td>1.000000</td>\n",
       "      <td>0.680829</td>\n",
       "    </tr>\n",
       "    <tr>\n",
       "      <th>std</th>\n",
       "      <td>-0.225333</td>\n",
       "      <td>0.804790</td>\n",
       "      <td>-0.199931</td>\n",
       "      <td>0.680829</td>\n",
       "      <td>1.000000</td>\n",
       "    </tr>\n",
       "  </tbody>\n",
       "</table>\n",
       "</div>"
      ],
      "text/plain": [
       "             return      beta     alpha  r_squared       std\n",
       "return     1.000000 -0.444428  0.999483  -0.396192 -0.225333\n",
       "beta      -0.444428  1.000000 -0.415403   0.913072  0.804790\n",
       "alpha      0.999483 -0.415403  1.000000  -0.369542 -0.199931\n",
       "r_squared -0.396192  0.913072 -0.369542   1.000000  0.680829\n",
       "std       -0.225333  0.804790 -0.199931   0.680829  1.000000"
      ]
     },
     "execution_count": 16,
     "metadata": {},
     "output_type": "execute_result"
    }
   ],
   "source": [
    "fund_performance.corr()"
   ]
  },
  {
   "cell_type": "markdown",
   "metadata": {},
   "source": [
    "可以看到，收益和alpha是高度相关的，也就是说收益高的基金，alpha也高。"
   ]
  },
  {
   "cell_type": "code",
   "execution_count": 17,
   "metadata": {},
   "outputs": [],
   "source": [
    "fp = fund_performance\n",
    "#  beta >1 \n",
    "c_1 = fp['beta'] >1\n",
    "# 80<= r_squared <100\n",
    "c_2 = (fp['r_squared']>=80) & fp['r_squared']<=100\n",
    "# Top 10% returns and 10% alpha\n",
    "c_3 = fp['return']>fp['return'].quantile(0.9)\n",
    "c_4 = fp['alpha']>fp['alpha'].quantile(0.9)\n",
    "# \n",
    "good = c_1 & c_2 & c_3 & c_4 "
   ]
  },
  {
   "cell_type": "markdown",
   "metadata": {},
   "source": [
    "查看一下涨跌幅的变化。"
   ]
  },
  {
   "cell_type": "code",
   "execution_count": 18,
   "metadata": {},
   "outputs": [
    {
     "data": {
      "text/plain": [
       "<matplotlib.axes._subplots.AxesSubplot at 0x10ce1b290>"
      ]
     },
     "execution_count": 18,
     "metadata": {},
     "output_type": "execute_result"
    },
    {
     "data": {
      "image/png": "[encoded data removed]",
      "text/plain": [
       "<matplotlib.figure.Figure at 0x10ac38a90>"
      ]
     },
     "metadata": {},
     "output_type": "display_data"
    }
   ],
   "source": [
    "good_funds = fp[good]\n",
    "(df400/100+1).cumprod().T[good].T.plot(legend=False)"
   ]
  },
  {
   "cell_type": "markdown",
   "metadata": {},
   "source": [
    "## 分析续\n",
    "70 多只基金还是有点多，需要进一步选出我们需要的基金。\n",
    "查看一下每只基金上涨的天数和最终收益是否相关，并比较所有基金上涨天数和优选基金上涨天数是否有显著差别。\n",
    "### 上涨天数"
   ]
  },
  {
   "cell_type": "code",
   "execution_count": 19,
   "metadata": {},
   "outputs": [
    {
     "data": {
      "text/html": [
       "<div>\n",
       "<style scoped>\n",
       "    .dataframe tbody tr th:only-of-type {\n",
       "        vertical-align: middle;\n",
       "    }\n",
       "\n",
       "    .dataframe tbody tr th {\n",
       "        vertical-align: top;\n",
       "    }\n",
       "\n",
       "    .dataframe thead th {\n",
       "        text-align: right;\n",
       "    }\n",
       "</style>\n",
       "<table border=\"1\" class=\"dataframe\">\n",
       "  <thead>\n",
       "    <tr style=\"text-align: right;\">\n",
       "      <th></th>\n",
       "      <th>return</th>\n",
       "      <th>beta</th>\n",
       "      <th>alpha</th>\n",
       "      <th>r_squared</th>\n",
       "      <th>std</th>\n",
       "      <th>up_days</th>\n",
       "    </tr>\n",
       "  </thead>\n",
       "  <tbody>\n",
       "    <tr>\n",
       "      <th>return</th>\n",
       "      <td>1.000000</td>\n",
       "      <td>-0.444428</td>\n",
       "      <td>0.999483</td>\n",
       "      <td>-0.396192</td>\n",
       "      <td>-0.225333</td>\n",
       "      <td>-0.050328</td>\n",
       "    </tr>\n",
       "    <tr>\n",
       "      <th>beta</th>\n",
       "      <td>-0.444428</td>\n",
       "      <td>1.000000</td>\n",
       "      <td>-0.415403</td>\n",
       "      <td>0.913072</td>\n",
       "      <td>0.804790</td>\n",
       "      <td>0.619095</td>\n",
       "    </tr>\n",
       "    <tr>\n",
       "      <th>alpha</th>\n",
       "      <td>0.999483</td>\n",
       "      <td>-0.415403</td>\n",
       "      <td>1.000000</td>\n",
       "      <td>-0.369542</td>\n",
       "      <td>-0.199931</td>\n",
       "      <td>-0.028889</td>\n",
       "    </tr>\n",
       "    <tr>\n",
       "      <th>r_squared</th>\n",
       "      <td>-0.396192</td>\n",
       "      <td>0.913072</td>\n",
       "      <td>-0.369542</td>\n",
       "      <td>1.000000</td>\n",
       "      <td>0.680829</td>\n",
       "      <td>0.666916</td>\n",
       "    </tr>\n",
       "    <tr>\n",
       "      <th>std</th>\n",
       "      <td>-0.225333</td>\n",
       "      <td>0.804790</td>\n",
       "      <td>-0.199931</td>\n",
       "      <td>0.680829</td>\n",
       "      <td>1.000000</td>\n",
       "      <td>0.518947</td>\n",
       "    </tr>\n",
       "    <tr>\n",
       "      <th>up_days</th>\n",
       "      <td>-0.050328</td>\n",
       "      <td>0.619095</td>\n",
       "      <td>-0.028889</td>\n",
       "      <td>0.666916</td>\n",
       "      <td>0.518947</td>\n",
       "      <td>1.000000</td>\n",
       "    </tr>\n",
       "  </tbody>\n",
       "</table>\n",
       "</div>"
      ],
      "text/plain": [
       "             return      beta     alpha  r_squared       std   up_days\n",
       "return     1.000000 -0.444428  0.999483  -0.396192 -0.225333 -0.050328\n",
       "beta      -0.444428  1.000000 -0.415403   0.913072  0.804790  0.619095\n",
       "alpha      0.999483 -0.415403  1.000000  -0.369542 -0.199931 -0.028889\n",
       "r_squared -0.396192  0.913072 -0.369542   1.000000  0.680829  0.666916\n",
       "std       -0.225333  0.804790 -0.199931   0.680829  1.000000  0.518947\n",
       "up_days   -0.050328  0.619095 -0.028889   0.666916  0.518947  1.000000"
      ]
     },
     "execution_count": 19,
     "metadata": {},
     "output_type": "execute_result"
    }
   ],
   "source": [
    "fp['up_days'] = (df400.T>0).sum(axis=1)\n",
    "fp.corr()"
   ]
  },
  {
   "cell_type": "code",
   "execution_count": 20,
   "metadata": {},
   "outputs": [
    {
     "data": {
      "text/plain": [
       "Text(0.5,1,u'\\u6bcf\\u53ea\\u57fa\\u91d1\\u4e0a\\u6da8\\u5929\\u6570\\u5206\\u5e03')"
      ]
     },
     "execution_count": 20,
     "metadata": {},
     "output_type": "execute_result"
    },
    {
     "data": {
      "image/png": "[encoded data removed]",
      "text/plain": [
       "<matplotlib.figure.Figure at 0x10f376550>"
      ]
     },
     "metadata": {},
     "output_type": "display_data"
    }
   ],
   "source": [
    "# plot\n",
    "ax = fp['up_days'].plot(kind='hist',bins=100,label=u'所有基金',normed=True)\n",
    "fp[good]['up_days'].plot(ax=ax,kind='hist',bins=20,label=u'挑选基金',normed=True,alpha=0.5)\n",
    "ax.legend()\n",
    "ax.set_title(u'每只基金上涨天数分布')"
   ]
  },
  {
   "cell_type": "markdown",
   "metadata": {},
   "source": [
    "### 最大涨幅和最大跌幅"
   ]
  },
  {
   "cell_type": "code",
   "execution_count": 21,
   "metadata": {},
   "outputs": [
    {
     "data": {
      "text/html": [
       "<div>\n",
       "<style scoped>\n",
       "    .dataframe tbody tr th:only-of-type {\n",
       "        vertical-align: middle;\n",
       "    }\n",
       "\n",
       "    .dataframe tbody tr th {\n",
       "        vertical-align: top;\n",
       "    }\n",
       "\n",
       "    .dataframe thead th {\n",
       "        text-align: right;\n",
       "    }\n",
       "</style>\n",
       "<table border=\"1\" class=\"dataframe\">\n",
       "  <thead>\n",
       "    <tr style=\"text-align: right;\">\n",
       "      <th></th>\n",
       "      <th>return</th>\n",
       "      <th>beta</th>\n",
       "      <th>alpha</th>\n",
       "      <th>r_squared</th>\n",
       "      <th>std</th>\n",
       "      <th>up_days</th>\n",
       "      <th>max_rate</th>\n",
       "      <th>min_rate</th>\n",
       "    </tr>\n",
       "  </thead>\n",
       "  <tbody>\n",
       "    <tr>\n",
       "      <th>return</th>\n",
       "      <td>1.000000</td>\n",
       "      <td>-0.444428</td>\n",
       "      <td>0.999483</td>\n",
       "      <td>-0.396192</td>\n",
       "      <td>-0.225333</td>\n",
       "      <td>-0.050328</td>\n",
       "      <td>0.196329</td>\n",
       "      <td>0.360637</td>\n",
       "    </tr>\n",
       "    <tr>\n",
       "      <th>beta</th>\n",
       "      <td>-0.444428</td>\n",
       "      <td>1.000000</td>\n",
       "      <td>-0.415403</td>\n",
       "      <td>0.913072</td>\n",
       "      <td>0.804790</td>\n",
       "      <td>0.619095</td>\n",
       "      <td>0.088528</td>\n",
       "      <td>-0.824092</td>\n",
       "    </tr>\n",
       "    <tr>\n",
       "      <th>alpha</th>\n",
       "      <td>0.999483</td>\n",
       "      <td>-0.415403</td>\n",
       "      <td>1.000000</td>\n",
       "      <td>-0.369542</td>\n",
       "      <td>-0.199931</td>\n",
       "      <td>-0.028889</td>\n",
       "      <td>0.202535</td>\n",
       "      <td>0.336631</td>\n",
       "    </tr>\n",
       "    <tr>\n",
       "      <th>r_squared</th>\n",
       "      <td>-0.396192</td>\n",
       "      <td>0.913072</td>\n",
       "      <td>-0.369542</td>\n",
       "      <td>1.000000</td>\n",
       "      <td>0.680829</td>\n",
       "      <td>0.666916</td>\n",
       "      <td>0.017004</td>\n",
       "      <td>-0.752862</td>\n",
       "    </tr>\n",
       "    <tr>\n",
       "      <th>std</th>\n",
       "      <td>-0.225333</td>\n",
       "      <td>0.804790</td>\n",
       "      <td>-0.199931</td>\n",
       "      <td>0.680829</td>\n",
       "      <td>1.000000</td>\n",
       "      <td>0.518947</td>\n",
       "      <td>0.650071</td>\n",
       "      <td>-0.909711</td>\n",
       "    </tr>\n",
       "    <tr>\n",
       "      <th>up_days</th>\n",
       "      <td>-0.050328</td>\n",
       "      <td>0.619095</td>\n",
       "      <td>-0.028889</td>\n",
       "      <td>0.666916</td>\n",
       "      <td>0.518947</td>\n",
       "      <td>1.000000</td>\n",
       "      <td>0.090379</td>\n",
       "      <td>-0.548059</td>\n",
       "    </tr>\n",
       "    <tr>\n",
       "      <th>max_rate</th>\n",
       "      <td>0.196329</td>\n",
       "      <td>0.088528</td>\n",
       "      <td>0.202535</td>\n",
       "      <td>0.017004</td>\n",
       "      <td>0.650071</td>\n",
       "      <td>0.090379</td>\n",
       "      <td>1.000000</td>\n",
       "      <td>-0.453739</td>\n",
       "    </tr>\n",
       "    <tr>\n",
       "      <th>min_rate</th>\n",
       "      <td>0.360637</td>\n",
       "      <td>-0.824092</td>\n",
       "      <td>0.336631</td>\n",
       "      <td>-0.752862</td>\n",
       "      <td>-0.909711</td>\n",
       "      <td>-0.548059</td>\n",
       "      <td>-0.453739</td>\n",
       "      <td>1.000000</td>\n",
       "    </tr>\n",
       "  </tbody>\n",
       "</table>\n",
       "</div>"
      ],
      "text/plain": [
       "             return      beta     alpha  r_squared       std   up_days  \\\n",
       "return     1.000000 -0.444428  0.999483  -0.396192 -0.225333 -0.050328   \n",
       "beta      -0.444428  1.000000 -0.415403   0.913072  0.804790  0.619095   \n",
       "alpha      0.999483 -0.415403  1.000000  -0.369542 -0.199931 -0.028889   \n",
       "r_squared -0.396192  0.913072 -0.369542   1.000000  0.680829  0.666916   \n",
       "std       -0.225333  0.804790 -0.199931   0.680829  1.000000  0.518947   \n",
       "up_days   -0.050328  0.619095 -0.028889   0.666916  0.518947  1.000000   \n",
       "max_rate   0.196329  0.088528  0.202535   0.017004  0.650071  0.090379   \n",
       "min_rate   0.360637 -0.824092  0.336631  -0.752862 -0.909711 -0.548059   \n",
       "\n",
       "           max_rate  min_rate  \n",
       "return     0.196329  0.360637  \n",
       "beta       0.088528 -0.824092  \n",
       "alpha      0.202535  0.336631  \n",
       "r_squared  0.017004 -0.752862  \n",
       "std        0.650071 -0.909711  \n",
       "up_days    0.090379 -0.548059  \n",
       "max_rate   1.000000 -0.453739  \n",
       "min_rate  -0.453739  1.000000  "
      ]
     },
     "execution_count": 21,
     "metadata": {},
     "output_type": "execute_result"
    }
   ],
   "source": [
    "fp['max_rate'] = df400.max()\n",
    "fp['min_rate'] = df400.min()\n",
    "fp.corr()"
   ]
  },
  {
   "cell_type": "code",
   "execution_count": 22,
   "metadata": {},
   "outputs": [
    {
     "data": {
      "text/plain": [
       "Text(0.5,1,u'\\u6700\\u5927\\u8dcc\\u5e45\\u5206\\u5e03')"
      ]
     },
     "execution_count": 22,
     "metadata": {},
     "output_type": "execute_result"
    },
    {
     "data": {
      "image/png": "[encoded data removed]",
      "text/plain": [
       "<matplotlib.figure.Figure at 0x10f87f0d0>"
      ]
     },
     "metadata": {},
     "output_type": "display_data"
    }
   ],
   "source": [
    "#plot\n",
    "fig, axes = plt.subplots(nrows=1, ncols=2)\n",
    "fp['max_rate'].plot(ax=axes[0],kind='hist',bins=100,label=u'所有基金',normed=True)\n",
    "fp[good]['max_rate'].plot(ax=axes[0],kind='hist',bins=20,label=u'优选基金',normed=True,alpha=0.5)\n",
    "axes[0].set_xlim(0,10)\n",
    "axes[0].legend()\n",
    "axes[0].set_title(u'最大涨幅分布')\n",
    "fp['min_rate'].plot(ax=axes[1],kind='hist',bins=100,label=u'所有基金',normed=True)\n",
    "fp[good]['min_rate'].plot(ax=axes[1],kind='hist',bins=20,label=u'优选基金',normed=True,alpha=0.5)\n",
    "axes[1].set_xlim(-20,0)\n",
    "axes[1].set_title(u'最大跌幅分布')"
   ]
  },
  {
   "cell_type": "markdown",
   "metadata": {},
   "source": [
    "### Top Performing Funds\n",
    "根据上面的结果来看，优选基金的上涨天数和最大涨幅与其他基金存在差别。决定选取收益、上涨天数和最大涨幅均排名前一半的基金。"
   ]
  },
  {
   "cell_type": "code",
   "execution_count": 23,
   "metadata": {},
   "outputs": [],
   "source": [
    "top1 = fp[good]['up_days'] > fp[good]['up_days'].quantile(0.5)\n",
    "top2 = fp[good]['max_rate'] > fp[good]['max_rate'].quantile(0.5)\n",
    "top3 = fp[good]['return'] > fp[good]['return'].quantile(0.5)\n",
    "top = top1 & top2 & top3"
   ]
  },
  {
   "cell_type": "markdown",
   "metadata": {},
   "source": [
    "读取经理和公司数据，供参考。"
   ]
  },
  {
   "cell_type": "code",
   "execution_count": 24,
   "metadata": {},
   "outputs": [],
   "source": [
    "inf = pd.read_csv('./data/mixed_funds.csv',dtype={'code':str})\n",
    "inf.set_index('code',inplace=True)"
   ]
  },
  {
   "cell_type": "code",
   "execution_count": 25,
   "metadata": {},
   "outputs": [],
   "source": [
    "inf_top = inf[inf.index.isin(fp[good][top].index)]\n",
    "top_funds = pd.merge(fp[good][top],inf_top,left_index=True,right_index=True)"
   ]
  },
  {
   "cell_type": "code",
   "execution_count": 26,
   "metadata": {},
   "outputs": [
    {
     "data": {
      "text/html": [
       "<div>\n",
       "<style scoped>\n",
       "    .dataframe tbody tr th:only-of-type {\n",
       "        vertical-align: middle;\n",
       "    }\n",
       "\n",
       "    .dataframe tbody tr th {\n",
       "        vertical-align: top;\n",
       "    }\n",
       "\n",
       "    .dataframe thead th {\n",
       "        text-align: right;\n",
       "    }\n",
       "</style>\n",
       "<table border=\"1\" class=\"dataframe\">\n",
       "  <thead>\n",
       "    <tr style=\"text-align: right;\">\n",
       "      <th></th>\n",
       "      <th>return</th>\n",
       "      <th>beta</th>\n",
       "      <th>alpha</th>\n",
       "      <th>r_squared</th>\n",
       "      <th>std</th>\n",
       "      <th>up_days</th>\n",
       "      <th>max_rate</th>\n",
       "      <th>min_rate</th>\n",
       "      <th>name</th>\n",
       "      <th>type</th>\n",
       "      <th>manager</th>\n",
       "      <th>company</th>\n",
       "    </tr>\n",
       "  </thead>\n",
       "  <tbody>\n",
       "    <tr>\n",
       "      <th>180012</th>\n",
       "      <td>0.341009</td>\n",
       "      <td>1.473643</td>\n",
       "      <td>0.318029</td>\n",
       "      <td>75.041912</td>\n",
       "      <td>1.366542</td>\n",
       "      <td>247</td>\n",
       "      <td>5.03</td>\n",
       "      <td>-7.29</td>\n",
       "      <td>银华富裕主题混合</td>\n",
       "      <td>混合型</td>\n",
       "      <td>周可彦</td>\n",
       "      <td>银华基金</td>\n",
       "    </tr>\n",
       "    <tr>\n",
       "      <th>020026</th>\n",
       "      <td>0.323009</td>\n",
       "      <td>1.664843</td>\n",
       "      <td>0.300940</td>\n",
       "      <td>87.147779</td>\n",
       "      <td>1.432609</td>\n",
       "      <td>250</td>\n",
       "      <td>4.30</td>\n",
       "      <td>-7.50</td>\n",
       "      <td>国泰成长优选混合</td>\n",
       "      <td>混合型</td>\n",
       "      <td>申坤</td>\n",
       "      <td>国泰基金</td>\n",
       "    </tr>\n",
       "    <tr>\n",
       "      <th>090004</th>\n",
       "      <td>0.212675</td>\n",
       "      <td>1.318818</td>\n",
       "      <td>0.188958</td>\n",
       "      <td>84.386419</td>\n",
       "      <td>1.153270</td>\n",
       "      <td>251</td>\n",
       "      <td>4.48</td>\n",
       "      <td>-6.64</td>\n",
       "      <td>大成精选增值</td>\n",
       "      <td>混合型</td>\n",
       "      <td>李博</td>\n",
       "      <td>大成基金</td>\n",
       "    </tr>\n",
       "    <tr>\n",
       "      <th>160215</th>\n",
       "      <td>0.185328</td>\n",
       "      <td>1.720074</td>\n",
       "      <td>0.163522</td>\n",
       "      <td>87.802956</td>\n",
       "      <td>1.474603</td>\n",
       "      <td>241</td>\n",
       "      <td>4.57</td>\n",
       "      <td>-7.62</td>\n",
       "      <td>国泰价值经典混合(LOF)</td>\n",
       "      <td>混合型</td>\n",
       "      <td>周伟锋</td>\n",
       "      <td>国泰基金</td>\n",
       "    </tr>\n",
       "    <tr>\n",
       "      <th>040008</th>\n",
       "      <td>0.182759</td>\n",
       "      <td>1.402632</td>\n",
       "      <td>0.159441</td>\n",
       "      <td>80.930672</td>\n",
       "      <td>1.252477</td>\n",
       "      <td>240</td>\n",
       "      <td>4.24</td>\n",
       "      <td>-7.19</td>\n",
       "      <td>华安策略优选混合</td>\n",
       "      <td>混合型</td>\n",
       "      <td>杨明</td>\n",
       "      <td>华安基金</td>\n",
       "    </tr>\n",
       "    <tr>\n",
       "      <th>001810</th>\n",
       "      <td>0.177559</td>\n",
       "      <td>1.259323</td>\n",
       "      <td>0.153558</td>\n",
       "      <td>80.313203</td>\n",
       "      <td>1.128824</td>\n",
       "      <td>245</td>\n",
       "      <td>4.50</td>\n",
       "      <td>-7.08</td>\n",
       "      <td>中欧潜力价值灵活配置混合</td>\n",
       "      <td>混合型</td>\n",
       "      <td>曹名长</td>\n",
       "      <td>中欧基金</td>\n",
       "    </tr>\n",
       "    <tr>\n",
       "      <th>020001</th>\n",
       "      <td>0.172971</td>\n",
       "      <td>1.696787</td>\n",
       "      <td>0.151054</td>\n",
       "      <td>87.359045</td>\n",
       "      <td>1.458330</td>\n",
       "      <td>240</td>\n",
       "      <td>4.24</td>\n",
       "      <td>-7.57</td>\n",
       "      <td>国泰金鹰增长灵活配置</td>\n",
       "      <td>混合型</td>\n",
       "      <td>周伟锋</td>\n",
       "      <td>国泰基金</td>\n",
       "    </tr>\n",
       "    <tr>\n",
       "      <th>000877</th>\n",
       "      <td>0.170283</td>\n",
       "      <td>1.333349</td>\n",
       "      <td>0.146635</td>\n",
       "      <td>85.311175</td>\n",
       "      <td>1.159641</td>\n",
       "      <td>250</td>\n",
       "      <td>4.76</td>\n",
       "      <td>-6.48</td>\n",
       "      <td>华泰柏瑞量化优选混合</td>\n",
       "      <td>混合型</td>\n",
       "      <td>田汉卿</td>\n",
       "      <td>华泰柏瑞基金</td>\n",
       "    </tr>\n",
       "  </tbody>\n",
       "</table>\n",
       "</div>"
      ],
      "text/plain": [
       "          return      beta     alpha  r_squared       std  up_days  max_rate  \\\n",
       "180012  0.341009  1.473643  0.318029  75.041912  1.366542      247      5.03   \n",
       "020026  0.323009  1.664843  0.300940  87.147779  1.432609      250      4.30   \n",
       "090004  0.212675  1.318818  0.188958  84.386419  1.153270      251      4.48   \n",
       "160215  0.185328  1.720074  0.163522  87.802956  1.474603      241      4.57   \n",
       "040008  0.182759  1.402632  0.159441  80.930672  1.252477      240      4.24   \n",
       "001810  0.177559  1.259323  0.153558  80.313203  1.128824      245      4.50   \n",
       "020001  0.172971  1.696787  0.151054  87.359045  1.458330      240      4.24   \n",
       "000877  0.170283  1.333349  0.146635  85.311175  1.159641      250      4.76   \n",
       "\n",
       "        min_rate           name type manager company  \n",
       "180012     -7.29       银华富裕主题混合  混合型     周可彦    银华基金  \n",
       "020026     -7.50       国泰成长优选混合  混合型      申坤    国泰基金  \n",
       "090004     -6.64         大成精选增值  混合型      李博    大成基金  \n",
       "160215     -7.62  国泰价值经典混合(LOF)  混合型     周伟锋    国泰基金  \n",
       "040008     -7.19       华安策略优选混合  混合型      杨明    华安基金  \n",
       "001810     -7.08   中欧潜力价值灵活配置混合  混合型     曹名长    中欧基金  \n",
       "020001     -7.57     国泰金鹰增长灵活配置  混合型     周伟锋    国泰基金  \n",
       "000877     -6.48     华泰柏瑞量化优选混合  混合型     田汉卿  华泰柏瑞基金  "
      ]
     },
     "execution_count": 26,
     "metadata": {},
     "output_type": "execute_result"
    }
   ],
   "source": [
    "top_funds.sort_values(by='return',ascending=False)"
   ]
  },
  {
   "cell_type": "code",
   "execution_count": 34,
   "metadata": {},
   "outputs": [],
   "source": [
    "fp.index.name = 'code'\n",
    "fp.to_csv('./data/fund_performance.csv')"
   ]
  },
  {
   "cell_type": "code",
   "execution_count": null,
   "metadata": {},
   "outputs": [],
   "source": []
  }
 ],
 "metadata": {
  "kernelspec": {
   "display_name": "Python 2",
   "language": "python",
   "name": "python2"
  },
  "language_info": {
   "codemirror_mode": {
    "name": "ipython",
    "version": 2
   },
   "file_extension": ".py",
   "mimetype": "text/x-python",
   "name": "python",
   "nbconvert_exporter": "python",
   "pygments_lexer": "ipython2",
   "version": "2.7.14"
  },
  "toc": {
   "colors": {
    "hover_highlight": "#DAA520",
    "navigate_num": "#000000",
    "navigate_text": "#333333",
    "running_highlight": "#FF0000",
    "selected_highlight": "#FFD700",
    "sidebar_border": "#EEEEEE",
    "wrapper_background": "#FFFFFF"
   },
   "moveMenuLeft": true,
   "nav_menu": {
    "height": "102px",
    "width": "252px"
   },
   "navigate_menu": true,
   "number_sections": true,
   "sideBar": true,
   "threshold": 4,
   "toc_cell": false,
   "toc_section_display": "block",
   "toc_window_display": true,
   "widenNotebook": false
  }
 },
 "nbformat": 4,
 "nbformat_minor": 2
}

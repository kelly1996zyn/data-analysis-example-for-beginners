{
 "cells": [
  {
   "cell_type": "code",
   "execution_count": 1,
   "metadata": {},
   "outputs": [
    {
     "name": "stderr",
     "output_type": "stream",
     "text": [
      "/Library/Frameworks/Python.framework/Versions/2.7/lib/python2.7/site-packages/sklearn/cross_validation.py:41: DeprecationWarning: This module was deprecated in version 0.18 in favor of the model_selection module into which all the refactored classes and functions are moved. Also note that the interface of the new CV iterators are different from that of this module. This module will be removed in 0.20.\n",
      "  \"This module will be removed in 0.20.\", DeprecationWarning)\n"
     ]
    }
   ],
   "source": [
    "import numpy as np\n",
    "import pandas as pd\n",
    "from sklearn.ensemble import RandomForestClassifier\n",
    "from sklearn import cross_validation\n",
    "from sklearn import preprocessing\n",
    "import os\n",
    "import matplotlib.pyplot as plt\n",
    "%matplotlib inline\n",
    "import matplotlib as mpl\n",
    "mpl.rcParams['font.sans-serif'] = ['STHeiti']\n",
    "mpl.rcParams['font.serif'] = ['STHeiti']\n",
    "import seaborn as sns\n",
    "sns.set_style(\"darkgrid\",{\"font.sans-serif\":['STHeiti', 'STHeiti']})\n",
    "# Set Default Encoding\n",
    "import sys\n",
    "stdout = sys.stdout\n",
    "reload(sys)\n",
    "sys.setdefaultencoding('utf-8')\n",
    "sys.stdout = stdout"
   ]
  },
  {
   "cell_type": "markdown",
   "metadata": {},
   "source": [
    "# 概述\n",
    "利用随机森林算法，根据基金 3 个月的数据，预测之后一个月的涨跌。\n",
    "# 特征提取\n",
    "## 数据读取\n",
    "▍读取涨跌幅数据、基金表现和基金信息数据"
   ]
  },
  {
   "cell_type": "code",
   "execution_count": 2,
   "metadata": {},
   "outputs": [
    {
     "data": {
      "text/html": [
       "<div>\n",
       "<style scoped>\n",
       "    .dataframe tbody tr th:only-of-type {\n",
       "        vertical-align: middle;\n",
       "    }\n",
       "\n",
       "    .dataframe tbody tr th {\n",
       "        vertical-align: top;\n",
       "    }\n",
       "\n",
       "    .dataframe thead th {\n",
       "        text-align: right;\n",
       "    }\n",
       "</style>\n",
       "<table border=\"1\" class=\"dataframe\">\n",
       "  <thead>\n",
       "    <tr style=\"text-align: right;\">\n",
       "      <th></th>\n",
       "      <th>return</th>\n",
       "      <th>beta</th>\n",
       "      <th>alpha</th>\n",
       "      <th>r_squared</th>\n",
       "      <th>std</th>\n",
       "      <th>up_days</th>\n",
       "      <th>max_rate</th>\n",
       "      <th>min_rate</th>\n",
       "      <th>name</th>\n",
       "      <th>type</th>\n",
       "      <th>manager</th>\n",
       "      <th>company</th>\n",
       "    </tr>\n",
       "    <tr>\n",
       "      <th>code</th>\n",
       "      <th></th>\n",
       "      <th></th>\n",
       "      <th></th>\n",
       "      <th></th>\n",
       "      <th></th>\n",
       "      <th></th>\n",
       "      <th></th>\n",
       "      <th></th>\n",
       "      <th></th>\n",
       "      <th></th>\n",
       "      <th></th>\n",
       "      <th></th>\n",
       "    </tr>\n",
       "  </thead>\n",
       "  <tbody>\n",
       "    <tr>\n",
       "      <th>000001</th>\n",
       "      <td>-0.046535</td>\n",
       "      <td>1.197893</td>\n",
       "      <td>-0.070828</td>\n",
       "      <td>92.254118</td>\n",
       "      <td>1.001862</td>\n",
       "      <td>226</td>\n",
       "      <td>2.89</td>\n",
       "      <td>-6.27</td>\n",
       "      <td>华夏成长</td>\n",
       "      <td>混合型</td>\n",
       "      <td>董阳阳</td>\n",
       "      <td>华夏基金</td>\n",
       "    </tr>\n",
       "    <tr>\n",
       "      <th>000011</th>\n",
       "      <td>0.079641</td>\n",
       "      <td>1.532346</td>\n",
       "      <td>0.056941</td>\n",
       "      <td>86.012987</td>\n",
       "      <td>1.327264</td>\n",
       "      <td>249</td>\n",
       "      <td>5.12</td>\n",
       "      <td>-8.16</td>\n",
       "      <td>华夏大盘精选</td>\n",
       "      <td>混合型</td>\n",
       "      <td>陈伟彦</td>\n",
       "      <td>华夏基金</td>\n",
       "    </tr>\n",
       "    <tr>\n",
       "      <th>000017</th>\n",
       "      <td>-0.056323</td>\n",
       "      <td>1.497941</td>\n",
       "      <td>-0.079187</td>\n",
       "      <td>86.969193</td>\n",
       "      <td>1.290311</td>\n",
       "      <td>228</td>\n",
       "      <td>4.44</td>\n",
       "      <td>-7.73</td>\n",
       "      <td>财通可持续混合</td>\n",
       "      <td>混合型</td>\n",
       "      <td>金梓才</td>\n",
       "      <td>财通基金</td>\n",
       "    </tr>\n",
       "    <tr>\n",
       "      <th>000020</th>\n",
       "      <td>0.122270</td>\n",
       "      <td>1.657785</td>\n",
       "      <td>0.100167</td>\n",
       "      <td>91.334419</td>\n",
       "      <td>1.393457</td>\n",
       "      <td>244</td>\n",
       "      <td>5.27</td>\n",
       "      <td>-8.17</td>\n",
       "      <td>景顺长城品质投资混合</td>\n",
       "      <td>混合型</td>\n",
       "      <td>詹成</td>\n",
       "      <td>景顺长城基金</td>\n",
       "    </tr>\n",
       "    <tr>\n",
       "      <th>000021</th>\n",
       "      <td>-0.032180</td>\n",
       "      <td>1.686314</td>\n",
       "      <td>-0.054146</td>\n",
       "      <td>96.567434</td>\n",
       "      <td>1.378497</td>\n",
       "      <td>226</td>\n",
       "      <td>4.76</td>\n",
       "      <td>-8.14</td>\n",
       "      <td>华夏优势增长混合</td>\n",
       "      <td>混合型</td>\n",
       "      <td>郑晓辉</td>\n",
       "      <td>华夏基金</td>\n",
       "    </tr>\n",
       "  </tbody>\n",
       "</table>\n",
       "</div>"
      ],
      "text/plain": [
       "          return      beta     alpha  r_squared       std  up_days  max_rate  \\\n",
       "code                                                                           \n",
       "000001 -0.046535  1.197893 -0.070828  92.254118  1.001862      226      2.89   \n",
       "000011  0.079641  1.532346  0.056941  86.012987  1.327264      249      5.12   \n",
       "000017 -0.056323  1.497941 -0.079187  86.969193  1.290311      228      4.44   \n",
       "000020  0.122270  1.657785  0.100167  91.334419  1.393457      244      5.27   \n",
       "000021 -0.032180  1.686314 -0.054146  96.567434  1.378497      226      4.76   \n",
       "\n",
       "        min_rate        name type manager company  \n",
       "code                                               \n",
       "000001     -6.27        华夏成长  混合型     董阳阳    华夏基金  \n",
       "000011     -8.16      华夏大盘精选  混合型     陈伟彦    华夏基金  \n",
       "000017     -7.73     财通可持续混合  混合型     金梓才    财通基金  \n",
       "000020     -8.17  景顺长城品质投资混合  混合型      詹成  景顺长城基金  \n",
       "000021     -8.14    华夏优势增长混合  混合型     郑晓辉    华夏基金  "
      ]
     },
     "execution_count": 2,
     "metadata": {},
     "output_type": "execute_result"
    }
   ],
   "source": [
    "rate = pd.read_csv('data/two_years_data.csv')\n",
    "rate['date'] = pd.to_datetime(rate['date'])\n",
    "rate.set_index('date',inplace=True)\n",
    "#\n",
    "fp = pd.read_csv('data/fund_performance.csv',dtype={'code':str})\n",
    "fp.set_index('code',inplace=True)\n",
    "inf = pd.read_csv('./data/mixed_funds.csv',dtype={'code':str})\n",
    "inf.set_index('code',inplace=True)\n",
    "fpi = pd.merge(fp,inf,left_index=True,right_index=True)\n",
    "fpi.head()"
   ]
  },
  {
   "cell_type": "markdown",
   "metadata": {},
   "source": [
    "## 数据预处理\n",
    "经理和公司也是基金的特征之一，体现经理和公司的优劣主要是基金的业绩。这里考虑用经理和公司的平均收益代表经理和公司。"
   ]
  },
  {
   "cell_type": "code",
   "execution_count": 3,
   "metadata": {},
   "outputs": [],
   "source": [
    "manger_dict = fpi.groupby('manager')['return'].mean().to_dict()\n",
    "fpi['manager'] = fpi['manager'].replace(manger_dict)\n",
    "company_dict = fpi.groupby('company')['return'].mean().to_dict()\n",
    "fpi['company'] = fpi['company'].replace(company_dict)"
   ]
  },
  {
   "cell_type": "markdown",
   "metadata": {},
   "source": [
    "▍删掉基金名字和类型"
   ]
  },
  {
   "cell_type": "code",
   "execution_count": 4,
   "metadata": {},
   "outputs": [],
   "source": [
    "fpi.drop(['name','type'],axis=1,inplace=True)"
   ]
  },
  {
   "cell_type": "markdown",
   "metadata": {},
   "source": [
    "▍将涨跌幅数据转换为涨跌等级"
   ]
  },
  {
   "cell_type": "code",
   "execution_count": 5,
   "metadata": {},
   "outputs": [],
   "source": [
    "rate_range = [rate.unstack().quantile(x) for x in np.arange(11)/10.]\n",
    "rate_range[0] = rate_range[0] - 0.1\n",
    "rate_range = np.sort(list(set(rate_range)))\n",
    "n = len(rate_range)\n",
    "rate_level = rate.apply(lambda x: pd.cut(x,rate_range,labels=np.arange(n-1)))\n",
    "#"
   ]
  },
  {
   "cell_type": "code",
   "execution_count": 9,
   "metadata": {},
   "outputs": [
    {
     "data": {
      "text/plain": [
       "array([ -6.76700000e+01,  -8.00000000e-01,  -3.50000000e-01,\n",
       "        -1.10000000e-01,   0.00000000e+00,   9.00000000e-02,\n",
       "         2.10000000e-01,   4.60000000e-01,   9.20000000e-01,\n",
       "         2.08610000e+02])"
      ]
     },
     "execution_count": 9,
     "metadata": {},
     "output_type": "execute_result"
    }
   ],
   "source": [
    "rate_range"
   ]
  },
  {
   "cell_type": "markdown",
   "metadata": {},
   "source": [
    "## 特征集和标签集\n",
    "提取每半年的数据作为特征集，根据半年后第一个月的表现给定标签。值得说明的是，并不是第七个月的涨跌幅为正就判定基金涨了，而是与预期涨幅(month_rate) 比较，超过预测涨幅则判定基金涨了，预期涨幅为基金平均表现的月化收益。每次往后滑动一个月。"
   ]
  },
  {
   "cell_type": "code",
   "execution_count": 10,
   "metadata": {},
   "outputs": [],
   "source": [
    "time_range = pd.date_range('2016-01',periods=22,freq='M').strftime('%Y-%m')\n",
    "#month_rate = ((rate/100+1).cumprod().ix[-1].quantile(0.75)-1)*250/len(rate)/12\n",
    "month_rate = ((rate/100+1).cumprod().ix[-1].mean()-1)*250/len(rate)/12"
   ]
  },
  {
   "cell_type": "code",
   "execution_count": 11,
   "metadata": {},
   "outputs": [],
   "source": [
    "fea = pd.DataFrame()\n",
    "for i in range(len(time_range)-7):\n",
    "    s_time = time_range[i]\n",
    "    e_time = time_range[i+5]\n",
    "    # \n",
    "    level_nums = []\n",
    "    for level in np.arange(n-1):\n",
    "        level_nums.append((rate_level[s_time:e_time]==level).sum())\n",
    "    col_labels = ['L'+str(x) for x in np.arange(n-1)]\n",
    "    df_level = pd.DataFrame(level_nums).T\n",
    "    df_level.columns = col_labels\n",
    "    # label\n",
    "    label = (rate[time_range[i+3]]/100+1).cumprod().ix[-1]>month_rate+1\n",
    "    label.name = 'label'\n",
    "    #\n",
    "    df_merge = pd.concat([df_level,fpi,label],axis=1).reset_index()\n",
    "    df_merge.rename(index=str, columns={},inplace=True)\n",
    "    #\n",
    "    fea = pd.concat([fea,df_merge])\n",
    "#\n",
    "fea.reset_index()\n",
    "fea.drop('index',inplace=True)"
   ]
  },
  {
   "cell_type": "code",
   "execution_count": 12,
   "metadata": {},
   "outputs": [
    {
     "data": {
      "text/plain": [
       "0.024924347283937318"
      ]
     },
     "execution_count": 12,
     "metadata": {},
     "output_type": "execute_result"
    }
   ],
   "source": [
    "month_rate*12"
   ]
  },
  {
   "cell_type": "markdown",
   "metadata": {},
   "source": [
    "▍将所有特征离散化为 10 个等级"
   ]
  },
  {
   "cell_type": "code",
   "execution_count": 14,
   "metadata": {},
   "outputs": [],
   "source": [
    "X = fea.drop(['code','label'],axis=1)\n",
    "def dis_ten(fea):\n",
    "    \"\"\"fea: Series\"\"\"\n",
    "    fea_range = [fea.quantile(x) for x in np.arange(11)/10.]\n",
    "    # the bins not include the leftmost edge\n",
    "    fea_range[0] = fea_range[0] - 0.1\n",
    "    fea_range = set(fea_range)\n",
    "    fea_range = np.sort(list(fea_range))\n",
    "    return pd.cut(fea,fea_range,labels=np.arange(len(fea_range)-1))\n",
    "X_scaler = X.apply(lambda x: dis_ten(x))\n",
    "#\n",
    "y = fea['label']"
   ]
  },
  {
   "cell_type": "code",
   "execution_count": 15,
   "metadata": {},
   "outputs": [
    {
     "data": {
      "text/html": [
       "<div>\n",
       "<style scoped>\n",
       "    .dataframe tbody tr th:only-of-type {\n",
       "        vertical-align: middle;\n",
       "    }\n",
       "\n",
       "    .dataframe tbody tr th {\n",
       "        vertical-align: top;\n",
       "    }\n",
       "\n",
       "    .dataframe thead th {\n",
       "        text-align: right;\n",
       "    }\n",
       "</style>\n",
       "<table border=\"1\" class=\"dataframe\">\n",
       "  <thead>\n",
       "    <tr style=\"text-align: right;\">\n",
       "      <th></th>\n",
       "      <th>1</th>\n",
       "      <th>2</th>\n",
       "      <th>3</th>\n",
       "      <th>4</th>\n",
       "      <th>5</th>\n",
       "      <th>6</th>\n",
       "      <th>7</th>\n",
       "      <th>8</th>\n",
       "      <th>9</th>\n",
       "      <th>10</th>\n",
       "      <th>...</th>\n",
       "      <th>20</th>\n",
       "      <th>21</th>\n",
       "      <th>22</th>\n",
       "      <th>23</th>\n",
       "      <th>24</th>\n",
       "      <th>25</th>\n",
       "      <th>26</th>\n",
       "      <th>27</th>\n",
       "      <th>28</th>\n",
       "      <th>29</th>\n",
       "    </tr>\n",
       "  </thead>\n",
       "  <tbody>\n",
       "    <tr>\n",
       "      <th>0</th>\n",
       "      <td>0.586077</td>\n",
       "      <td>0.465250</td>\n",
       "      <td>0.588690</td>\n",
       "      <td>0.520256</td>\n",
       "      <td>0.614943</td>\n",
       "      <td>0.564972</td>\n",
       "      <td>0.608944</td>\n",
       "      <td>0.560164</td>\n",
       "      <td>0.603828</td>\n",
       "      <td>0.561313</td>\n",
       "      <td>...</td>\n",
       "      <td>0.584784</td>\n",
       "      <td>0.600487</td>\n",
       "      <td>0.574724</td>\n",
       "      <td>0.596680</td>\n",
       "      <td>0.586310</td>\n",
       "      <td>0.592773</td>\n",
       "      <td>0.584615</td>\n",
       "      <td>0.594595</td>\n",
       "      <td>0.582920</td>\n",
       "      <td>0.606149</td>\n",
       "    </tr>\n",
       "    <tr>\n",
       "      <th>1</th>\n",
       "      <td>0.634705</td>\n",
       "      <td>0.584859</td>\n",
       "      <td>0.665270</td>\n",
       "      <td>0.625398</td>\n",
       "      <td>0.688039</td>\n",
       "      <td>0.656126</td>\n",
       "      <td>0.701541</td>\n",
       "      <td>0.682779</td>\n",
       "      <td>0.703349</td>\n",
       "      <td>0.692500</td>\n",
       "      <td>...</td>\n",
       "      <td>0.699548</td>\n",
       "      <td>0.709933</td>\n",
       "      <td>0.703234</td>\n",
       "      <td>0.716049</td>\n",
       "      <td>0.707655</td>\n",
       "      <td>0.719936</td>\n",
       "      <td>0.710174</td>\n",
       "      <td>0.717160</td>\n",
       "      <td>0.706592</td>\n",
       "      <td>0.719181</td>\n",
       "    </tr>\n",
       "    <tr>\n",
       "      <th>2</th>\n",
       "      <td>0.638486</td>\n",
       "      <td>0.577386</td>\n",
       "      <td>0.655513</td>\n",
       "      <td>0.624427</td>\n",
       "      <td>0.664384</td>\n",
       "      <td>0.655738</td>\n",
       "      <td>0.680489</td>\n",
       "      <td>0.669276</td>\n",
       "      <td>0.672331</td>\n",
       "      <td>0.676270</td>\n",
       "      <td>...</td>\n",
       "      <td>0.679912</td>\n",
       "      <td>0.685900</td>\n",
       "      <td>0.681967</td>\n",
       "      <td>0.701616</td>\n",
       "      <td>0.678311</td>\n",
       "      <td>0.690000</td>\n",
       "      <td>0.682766</td>\n",
       "      <td>0.686941</td>\n",
       "      <td>0.680525</td>\n",
       "      <td>0.693381</td>\n",
       "    </tr>\n",
       "    <tr>\n",
       "      <th>3</th>\n",
       "      <td>0.610492</td>\n",
       "      <td>0.556440</td>\n",
       "      <td>0.632411</td>\n",
       "      <td>0.592174</td>\n",
       "      <td>0.641670</td>\n",
       "      <td>0.608768</td>\n",
       "      <td>0.647306</td>\n",
       "      <td>0.638076</td>\n",
       "      <td>0.659290</td>\n",
       "      <td>0.633013</td>\n",
       "      <td>...</td>\n",
       "      <td>0.648297</td>\n",
       "      <td>0.663411</td>\n",
       "      <td>0.636119</td>\n",
       "      <td>0.652710</td>\n",
       "      <td>0.650648</td>\n",
       "      <td>0.655224</td>\n",
       "      <td>0.643652</td>\n",
       "      <td>0.658482</td>\n",
       "      <td>0.646457</td>\n",
       "      <td>0.648426</td>\n",
       "    </tr>\n",
       "    <tr>\n",
       "      <th>4</th>\n",
       "      <td>0.565814</td>\n",
       "      <td>0.407778</td>\n",
       "      <td>0.568729</td>\n",
       "      <td>0.527415</td>\n",
       "      <td>0.590056</td>\n",
       "      <td>0.530381</td>\n",
       "      <td>0.597183</td>\n",
       "      <td>0.548306</td>\n",
       "      <td>0.617606</td>\n",
       "      <td>0.568618</td>\n",
       "      <td>...</td>\n",
       "      <td>0.572973</td>\n",
       "      <td>0.602546</td>\n",
       "      <td>0.595930</td>\n",
       "      <td>0.607177</td>\n",
       "      <td>0.585987</td>\n",
       "      <td>0.601618</td>\n",
       "      <td>0.595785</td>\n",
       "      <td>0.605152</td>\n",
       "      <td>0.594749</td>\n",
       "      <td>0.604520</td>\n",
       "    </tr>\n",
       "  </tbody>\n",
       "</table>\n",
       "<p>5 rows × 29 columns</p>\n",
       "</div>"
      ],
      "text/plain": [
       "          1         2         3         4         5         6         7  \\\n",
       "0  0.586077  0.465250  0.588690  0.520256  0.614943  0.564972  0.608944   \n",
       "1  0.634705  0.584859  0.665270  0.625398  0.688039  0.656126  0.701541   \n",
       "2  0.638486  0.577386  0.655513  0.624427  0.664384  0.655738  0.680489   \n",
       "3  0.610492  0.556440  0.632411  0.592174  0.641670  0.608768  0.647306   \n",
       "4  0.565814  0.407778  0.568729  0.527415  0.590056  0.530381  0.597183   \n",
       "\n",
       "          8         9        10    ...           20        21        22  \\\n",
       "0  0.560164  0.603828  0.561313    ...     0.584784  0.600487  0.574724   \n",
       "1  0.682779  0.703349  0.692500    ...     0.699548  0.709933  0.703234   \n",
       "2  0.669276  0.672331  0.676270    ...     0.679912  0.685900  0.681967   \n",
       "3  0.638076  0.659290  0.633013    ...     0.648297  0.663411  0.636119   \n",
       "4  0.548306  0.617606  0.568618    ...     0.572973  0.602546  0.595930   \n",
       "\n",
       "         23        24        25        26        27        28        29  \n",
       "0  0.596680  0.586310  0.592773  0.584615  0.594595  0.582920  0.606149  \n",
       "1  0.716049  0.707655  0.719936  0.710174  0.717160  0.706592  0.719181  \n",
       "2  0.701616  0.678311  0.690000  0.682766  0.686941  0.680525  0.693381  \n",
       "3  0.652710  0.650648  0.655224  0.643652  0.658482  0.646457  0.648426  \n",
       "4  0.607177  0.585987  0.601618  0.595785  0.605152  0.594749  0.604520  \n",
       "\n",
       "[5 rows x 29 columns]"
      ]
     },
     "execution_count": 15,
     "metadata": {},
     "output_type": "execute_result"
    }
   ],
   "source": [
    "no_trees = range(1,30)\n",
    "# 10 折\n",
    "k_fold=10\n",
    "#\n",
    "df_random_forest = pd.DataFrame()\n",
    "# 交叉验证并评分\n",
    "for i in no_trees:    \n",
    "    forest = RandomForestClassifier(n_estimators=i)\n",
    "    scores = cross_validation.cross_val_score(forest, X_scaler, y,scoring='f1', cv=k_fold)\n",
    "    df_random_forest[str(i)]=scores"
   ]
  },
  {
   "cell_type": "code",
   "execution_count": 20,
   "metadata": {},
   "outputs": [
    {
     "data": {
      "image/png": "[encoded data removed]",
      "text/plain": [
       "<matplotlib.figure.Figure at 0x10b44a610>"
      ]
     },
     "metadata": {},
     "output_type": "display_data"
    }
   ],
   "source": [
    "plt.figure(figsize=(16,9))\n",
    "df_random_forest.boxplot()\n",
    "plt.xlabel( u\"树数量\", fontsize=14)\n",
    "plt.ylabel(u\"准确率\", fontsize=14)\n",
    "sns.set_context('poster')"
   ]
  },
  {
   "cell_type": "code",
   "execution_count": 21,
   "metadata": {},
   "outputs": [],
   "source": [
    "forest = RandomForestClassifier(n_estimators=25)\n",
    "clf = forest.fit(X_scaler,y)"
   ]
  },
  {
   "cell_type": "code",
   "execution_count": 22,
   "metadata": {},
   "outputs": [
    {
     "data": {
      "image/png": "[encoded data removed]",
      "text/plain": [
       "<matplotlib.figure.Figure at 0x10ad2d3d0>"
      ]
     },
     "metadata": {},
     "output_type": "display_data"
    }
   ],
   "source": [
    "\n",
    "index = np.arange(len(X_scaler.columns))\n",
    "\n",
    "plt.figure(figsize=(10,8))\n",
    "plt.bar(index, clf.feature_importances_, 0.35,label='')\n",
    "plt.xlabel('属性', fontsize =16)\n",
    "plt.ylabel('属性重要性', fontsize =16)\n",
    "plt.xticks(index, X_scaler.columns,rotation = 70)"
   ]
  },
  {
   "cell_type": "code",
   "execution_count": null,
   "metadata": {},
   "outputs": [],
   "source": []
  }
 ],
 "metadata": {
  "kernelspec": {
   "display_name": "Python 2",
   "language": "python",
   "name": "python2"
  },
  "language_info": {
   "codemirror_mode": {
    "name": "ipython",
    "version": 2
   },
   "file_extension": ".py",
   "mimetype": "text/x-python",
   "name": "python",
   "nbconvert_exporter": "python",
   "pygments_lexer": "ipython2",
   "version": "2.7.14"
  },
  "toc": {
   "colors": {
    "hover_highlight": "#DAA520",
    "navigate_num": "#000000",
    "navigate_text": "#333333",
    "running_highlight": "#FF0000",
    "selected_highlight": "#FFD700",
    "sidebar_border": "#EEEEEE",
    "wrapper_background": "#FFFFFF"
   },
   "moveMenuLeft": true,
   "nav_menu": {
    "height": "102px",
    "width": "252px"
   },
   "navigate_menu": true,
   "number_sections": true,
   "sideBar": true,
   "threshold": 4,
   "toc_cell": false,
   "toc_section_display": "block",
   "toc_window_display": true,
   "widenNotebook": false
  }
 },
 "nbformat": 4,
 "nbformat_minor": 2
}
